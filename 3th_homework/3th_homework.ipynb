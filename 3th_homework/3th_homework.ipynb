{
 "cells": [
  {
   "cell_type": "markdown",
   "id": "9435b7f0",
   "metadata": {},
   "source": [
    "# Введение в нейронные сети"
   ]
  },
  {
   "cell_type": "markdown",
   "id": "d9264e76",
   "metadata": {},
   "source": [
    "## Урок 3. TensorFlow"
   ]
  },
  {
   "cell_type": "markdown",
   "id": "4e538bd8",
   "metadata": {},
   "source": [
    "### Практическое задание"
   ]
  },
  {
   "cell_type": "markdown",
   "id": "094c1e92",
   "metadata": {},
   "source": [
    "В конце ноутбука создаются два массива с рукописными буквами и с характеристиками вина.\n",
    "\n",
    "Задание на дом: выбрать датасет, возможно, предварительно обработать, создать модель нейронной сети, обучить и проверить точность на тестовом датасете. Напишите свои мысли по поводу результатов.\n",
    "\n",
    "При желании можно рассмотреть оба датасета, можете попробовать применить другие методы машинного обучения, известные вам, и сравнить результаты обучения."
   ]
  },
  {
   "cell_type": "markdown",
   "id": "eb11a27e",
   "metadata": {},
   "source": [
    "### Решение"
   ]
  },
  {
   "cell_type": "markdown",
   "id": "966c8f52",
   "metadata": {},
   "source": [
    "Задание с разбором рукописных символов выглядит интереснее с технической точки зрения поэтому выберем его."
   ]
  },
  {
   "cell_type": "markdown",
   "id": "0b07bcce",
   "metadata": {},
   "source": [
    "#### Импорт библиотек"
   ]
  },
  {
   "cell_type": "code",
   "execution_count": 62,
   "id": "08cc70c1",
   "metadata": {},
   "outputs": [],
   "source": [
    "import numpy as np\n",
    "import pandas as pd\n",
    "\n",
    "import matplotlib.pyplot as plt\n",
    "\n",
    "from sklearn.model_selection import train_test_split\n",
    "\n",
    "import tensorflow as tf\n",
    "from tensorflow import keras\n",
    "\n",
    "from catboost import CatBoostClassifier\n",
    "\n",
    "from sklearn.metrics import accuracy_score"
   ]
  },
  {
   "cell_type": "markdown",
   "id": "24c0db51",
   "metadata": {},
   "source": [
    "#### Глобальные настройки проекта"
   ]
  },
  {
   "cell_type": "code",
   "execution_count": 2,
   "id": "671ceccd",
   "metadata": {},
   "outputs": [],
   "source": [
    "# Случайное зерно.\n",
    "GLOBAL__RANDOM_STATE = 0\n",
    "\n",
    "# Путь: веса обученной нейросети.\n",
    "PATH__MODEL_WEIGHTS = r'weights'"
   ]
  },
  {
   "cell_type": "markdown",
   "id": "67ac2ef2",
   "metadata": {},
   "source": [
    "#### Загрузка данных"
   ]
  },
  {
   "cell_type": "code",
   "execution_count": 3,
   "id": "e40ae44a",
   "metadata": {},
   "outputs": [
    {
     "data": {
      "text/plain": [
       "36"
      ]
     },
     "execution_count": 3,
     "metadata": {},
     "output_type": "execute_result"
    }
   ],
   "source": [
    "# Классы целевой переменной.\n",
    "classes = [str(i) for i in range(10)] +  list('ABCDEFGHIJKLMNOPQRSTUVWXYZ')\n",
    "\n",
    "# Вычисление количества классов.\n",
    "n_classes = len(classes)\n",
    "\n",
    "# Проверка: вывод количества классов.\n",
    "n_classes"
   ]
  },
  {
   "cell_type": "code",
   "execution_count": 4,
   "id": "195dd4e0",
   "metadata": {},
   "outputs": [
    {
     "data": {
      "text/plain": [
       "((1404, 20, 16), (1404,))"
      ]
     },
     "execution_count": 4,
     "metadata": {},
     "output_type": "execute_result"
    }
   ],
   "source": [
    "# Загрузка признаков и целевой переменной.\n",
    "X = np.load('binary_alpha_digits_images.npy')\n",
    "y = np.load('binary_alpha_digits_labels.npy')\n",
    "\n",
    "# Проверка: вывод размерности признаков и целевой переменной.\n",
    "X.shape, y.shape"
   ]
  },
  {
   "cell_type": "code",
   "execution_count": 5,
   "id": "8726c22a",
   "metadata": {},
   "outputs": [
    {
     "data": {
      "image/png": "[encoded data removed]",
      "text/plain": [
       "<Figure size 720x360 with 15 Axes>"
      ]
     },
     "metadata": {},
     "output_type": "display_data"
    }
   ],
   "source": [
    "# Проверка: визуализация признаков.\n",
    "fig, axes = plt.subplots(3, 5, figsize=(10, 5))\n",
    "fig.suptitle('binary alpha digits', fontsize=20)\n",
    "n = 0\n",
    "for ax in axes.flat:\n",
    "    ax.set_yticks([])\n",
    "    ax.set_xticks([])\n",
    "    ax.imshow(X[n], cmap=plt.cm.binary)\n",
    "    ax.set_xlabel(classes[y[n]])\n",
    "    n += 1"
   ]
  },
  {
   "cell_type": "markdown",
   "id": "c5a3841b",
   "metadata": {},
   "source": [
    "#### Подготовка данных"
   ]
  },
  {
   "cell_type": "code",
   "execution_count": 6,
   "id": "752593b0",
   "metadata": {},
   "outputs": [
    {
     "data": {
      "text/plain": [
       "array([[0, 0, 0, 0, 0, 0, 0, 0, 0, 0, 0, 0, 0, 0, 0, 1],\n",
       "       [0, 0, 0, 0, 0, 0, 0, 0, 0, 0, 0, 0, 0, 0, 1, 1],\n",
       "       [1, 1, 1, 0, 0, 0, 0, 0, 0, 0, 0, 0, 0, 1, 1, 1],\n",
       "       [1, 1, 1, 1, 0, 0, 0, 0, 0, 0, 0, 0, 1, 1, 1, 1],\n",
       "       [1, 1, 1, 1, 1, 0, 0, 0, 0, 0, 0, 1, 1, 1, 1, 0],\n",
       "       [0, 0, 1, 1, 1, 1, 1, 0, 0, 0, 1, 1, 1, 1, 0, 0],\n",
       "       [0, 0, 0, 1, 1, 1, 1, 1, 0, 1, 1, 1, 1, 0, 0, 0],\n",
       "       [0, 0, 0, 0, 1, 1, 1, 1, 1, 1, 1, 1, 0, 0, 0, 0],\n",
       "       [0, 0, 0, 0, 0, 1, 1, 1, 1, 1, 1, 1, 0, 0, 0, 0],\n",
       "       [0, 0, 0, 0, 0, 0, 1, 1, 1, 1, 1, 0, 0, 0, 0, 0],\n",
       "       [0, 0, 0, 0, 0, 0, 0, 1, 1, 1, 1, 1, 0, 0, 0, 0],\n",
       "       [0, 0, 0, 0, 0, 0, 1, 1, 1, 1, 1, 1, 1, 0, 0, 0],\n",
       "       [0, 0, 0, 0, 0, 0, 1, 1, 1, 1, 1, 1, 1, 1, 0, 0],\n",
       "       [0, 0, 0, 0, 0, 1, 1, 1, 0, 0, 1, 1, 1, 1, 1, 0],\n",
       "       [0, 0, 0, 0, 0, 1, 1, 1, 0, 0, 0, 1, 1, 1, 1, 1],\n",
       "       [0, 0, 0, 0, 1, 1, 1, 0, 0, 0, 0, 0, 1, 1, 1, 1],\n",
       "       [0, 0, 0, 0, 1, 1, 0, 0, 0, 0, 0, 0, 0, 0, 1, 1],\n",
       "       [0, 0, 0, 1, 1, 1, 0, 0, 0, 0, 0, 0, 0, 0, 1, 1],\n",
       "       [0, 0, 0, 1, 1, 0, 0, 0, 0, 0, 0, 0, 0, 0, 0, 1],\n",
       "       [0, 0, 0, 1, 1, 0, 0, 0, 0, 0, 0, 0, 0, 0, 0, 0]], dtype=uint8)"
      ]
     },
     "execution_count": 6,
     "metadata": {},
     "output_type": "execute_result"
    }
   ],
   "source": [
    "# Вывод признаков первого объекта.\n",
    "X[0]"
   ]
  },
  {
   "cell_type": "markdown",
   "id": "37368ad8",
   "metadata": {},
   "source": [
    "Данные имеют бинарную кодировку поэтому их нормализация не требуется.\n",
    "\n",
    "Представим каждый объект в виде одномерного вектора, чтобы также можно было обучить классические модели машинного обучения."
   ]
  },
  {
   "cell_type": "code",
   "execution_count": 7,
   "id": "0723fe6d",
   "metadata": {},
   "outputs": [
    {
     "data": {
      "text/plain": [
       "(1404, 320)"
      ]
     },
     "execution_count": 7,
     "metadata": {},
     "output_type": "execute_result"
    }
   ],
   "source": [
    "# Перевод признаков каждого объекта в ономерный вектор.\n",
    "X = X.reshape(X.shape[0], -1)\n",
    "\n",
    "# Проверка: вывод размерности признаков.\n",
    "X.shape"
   ]
  },
  {
   "cell_type": "code",
   "execution_count": 8,
   "id": "028221a9",
   "metadata": {},
   "outputs": [
    {
     "data": {
      "text/plain": [
       "320"
      ]
     },
     "execution_count": 8,
     "metadata": {},
     "output_type": "execute_result"
    }
   ],
   "source": [
    "# Вычисление количества признаков.\n",
    "n_features = X.shape[1]\n",
    "\n",
    "# Проверка: вывод количества признаков.\n",
    "n_features"
   ]
  },
  {
   "cell_type": "code",
   "execution_count": 9,
   "id": "63d1ea3b",
   "metadata": {},
   "outputs": [
    {
     "data": {
      "text/plain": [
       "((1123, 320), (281, 320), (1123,), (281,))"
      ]
     },
     "execution_count": 9,
     "metadata": {},
     "output_type": "execute_result"
    }
   ],
   "source": [
    "# Разбиение данных на обучающую и тестовую выборки.\n",
    "X_train, X_test, y_train, y_test = train_test_split(X, y, test_size=0.2, random_state=GLOBAL__RANDOM_STATE)\n",
    "\n",
    "# Проверка: вывод размерностей выборок.\n",
    "X_train.shape, X_test.shape, y_train.shape, y_test.shape"
   ]
  },
  {
   "cell_type": "markdown",
   "id": "6ac7bd04",
   "metadata": {},
   "source": [
    "#### Построение нейронной сети"
   ]
  },
  {
   "cell_type": "code",
   "execution_count": 47,
   "id": "9b37ea5e",
   "metadata": {},
   "outputs": [],
   "source": [
    "# Инициализация модели и подбор гиперпараметров.\n",
    "model = keras.Sequential([\n",
    "#     keras.Input(320, batch_size=300),\n",
    "    keras.Input(320),\n",
    "    keras.layers.Dense(n_features,\n",
    "                       activation='relu',\n",
    "#                        activation='sigmoid',\n",
    "#                        kernel_regularizer=tf.keras.regularizers.L2(l2=0.05),\n",
    "#                        kernel_regularizer=tf.keras.regularizers.L2(l2=0.01),\n",
    "                       bias_regularizer=tf.keras.regularizers.L2(l2=0.5)\n",
    "                      ),\n",
    "#     keras.layers.Dropout(0.1),\n",
    "    keras.layers.BatchNormalization(),\n",
    "    keras.layers.Dense(n_features, activation='relu'),\n",
    "    keras.layers.BatchNormalization(),\n",
    "#     keras.layers.Dropout(0.1),\n",
    "#     keras.layers.Dense(n_features, activation='relu'),\n",
    "    keras.layers.Dense(n_features, activation='sigmoid'),\n",
    "    keras.layers.BatchNormalization(),\n",
    "    keras.layers.Dense(n_features, activation='relu'),\n",
    "    keras.layers.BatchNormalization(),\n",
    "#     keras.layers.Dropout(0.1),\n",
    "#     keras.layers.Dense(n_features, activation='relu'),\n",
    "    keras.layers.Dense(n_features, activation='sigmoid'),\n",
    "    keras.layers.BatchNormalization(),\n",
    "    keras.layers.Dense(n_features, activation='relu'),\n",
    "    keras.layers.BatchNormalization(),\n",
    "#     keras.layers.Dropout(0.1),\n",
    "#     keras.layers.Dense(n_features, activation='relu'),\n",
    "    keras.layers.Dense(n_features, activation='sigmoid'),\n",
    "    keras.layers.BatchNormalization(),\n",
    "    keras.layers.Dense(n_classes)\n",
    "])"
   ]
  },
  {
   "cell_type": "code",
   "execution_count": 48,
   "id": "5e1b7c27",
   "metadata": {},
   "outputs": [],
   "source": [
    "# Настройка переменного шага градиента.\n",
    "boundaries = [2000, 4000]\n",
    "values = [0.01, 0.005, 0.001]\n",
    "lr_schedule = keras.optimizers.schedules.PiecewiseConstantDecay(boundaries, values)\n",
    "optimizer = keras.optimizers.SGD(learning_rate=lr_schedule)\n",
    "\n",
    "# Настройка модели.\n",
    "model.compile(optimizer=tf.keras.optimizers.Adam(learning_rate=lr_schedule),\n",
    "              loss=tf.keras.losses.SparseCategoricalCrossentropy(from_logits=True),\n",
    "              metrics=['accuracy'])"
   ]
  },
  {
   "cell_type": "code",
   "execution_count": 49,
   "id": "a32eabbe",
   "metadata": {
    "scrolled": false
   },
   "outputs": [
    {
     "name": "stdout",
     "output_type": "stream",
     "text": [
      "Model: \"sequential_4\"\n",
      "_________________________________________________________________\n",
      " Layer (type)                Output Shape              Param #   \n",
      "=================================================================\n",
      " dense_32 (Dense)            (None, 320)               102720    \n",
      "                                                                 \n",
      " batch_normalization_28 (Bat  (None, 320)              1280      \n",
      " chNormalization)                                                \n",
      "                                                                 \n",
      " dense_33 (Dense)            (None, 320)               102720    \n",
      "                                                                 \n",
      " batch_normalization_29 (Bat  (None, 320)              1280      \n",
      " chNormalization)                                                \n",
      "                                                                 \n",
      " dense_34 (Dense)            (None, 320)               102720    \n",
      "                                                                 \n",
      " batch_normalization_30 (Bat  (None, 320)              1280      \n",
      " chNormalization)                                                \n",
      "                                                                 \n",
      " dense_35 (Dense)            (None, 320)               102720    \n",
      "                                                                 \n",
      " batch_normalization_31 (Bat  (None, 320)              1280      \n",
      " chNormalization)                                                \n",
      "                                                                 \n",
      " dense_36 (Dense)            (None, 320)               102720    \n",
      "                                                                 \n",
      " batch_normalization_32 (Bat  (None, 320)              1280      \n",
      " chNormalization)                                                \n",
      "                                                                 \n",
      " dense_37 (Dense)            (None, 320)               102720    \n",
      "                                                                 \n",
      " batch_normalization_33 (Bat  (None, 320)              1280      \n",
      " chNormalization)                                                \n",
      "                                                                 \n",
      " dense_38 (Dense)            (None, 320)               102720    \n",
      "                                                                 \n",
      " batch_normalization_34 (Bat  (None, 320)              1280      \n",
      " chNormalization)                                                \n",
      "                                                                 \n",
      " dense_39 (Dense)            (None, 36)                11556     \n",
      "                                                                 \n",
      "=================================================================\n",
      "Total params: 739,556\n",
      "Trainable params: 735,076\n",
      "Non-trainable params: 4,480\n",
      "_________________________________________________________________\n"
     ]
    }
   ],
   "source": [
    "# Вывод описания модели.\n",
    "model.summary()"
   ]
  },
  {
   "cell_type": "code",
   "execution_count": 54,
   "id": "73c327b6",
   "metadata": {
    "scrolled": false
   },
   "outputs": [
    {
     "name": "stdout",
     "output_type": "stream",
     "text": [
      "Wall time: 114 ms\n"
     ]
    },
    {
     "data": {
      "text/plain": [
       "<tensorflow.python.training.tracking.util.CheckpointLoadStatus at 0x260d57fba00>"
      ]
     },
     "execution_count": 54,
     "metadata": {},
     "output_type": "execute_result"
    }
   ],
   "source": [
    "%%time\n",
    "\n",
    "# Обучение модели.\n",
    "# model.fit(X_train, y_train, epochs=100, verbose=0)\n",
    "\n",
    "# Загрузка весов лучшей обученной модели.\n",
    "model.load_weights(PATH__MODEL_WEIGHTS)"
   ]
  },
  {
   "cell_type": "code",
   "execution_count": 55,
   "id": "3d02828d",
   "metadata": {},
   "outputs": [
    {
     "name": "stdout",
     "output_type": "stream",
     "text": [
      "36/36 [==============================] - 0s 1ms/step - loss: 0.0759 - accuracy: 0.9679\n"
     ]
    },
    {
     "data": {
      "text/plain": [
       "[0.07592789083719254, 0.967943012714386]"
      ]
     },
     "execution_count": 55,
     "metadata": {},
     "output_type": "execute_result"
    }
   ],
   "source": [
    "# Оценка метрики \"accuracy\" на обучающей выборке.\n",
    "model.evaluate(X_train, y_train)"
   ]
  },
  {
   "cell_type": "code",
   "execution_count": 56,
   "id": "896ddb71",
   "metadata": {
    "scrolled": false
   },
   "outputs": [
    {
     "name": "stdout",
     "output_type": "stream",
     "text": [
      "9/9 [==============================] - 0s 2ms/step - loss: 1.4219 - accuracy: 0.7473\n"
     ]
    },
    {
     "data": {
      "text/plain": [
       "[1.4218926429748535, 0.7473309636116028]"
      ]
     },
     "execution_count": 56,
     "metadata": {},
     "output_type": "execute_result"
    }
   ],
   "source": [
    "# Оценка метрики \"accuracy\" на тестовой выборке.\n",
    "model.evaluate(X_test, y_test)"
   ]
  },
  {
   "cell_type": "code",
   "execution_count": 57,
   "id": "23eb7f48",
   "metadata": {},
   "outputs": [],
   "source": [
    "# Сохранение весов лучшей модели с метрикой \"accuracy\": 0.7473.\n",
    "# model.save_weights(PATH__MODEL_WEIGHTS)"
   ]
  },
  {
   "cell_type": "markdown",
   "id": "6e248845",
   "metadata": {},
   "source": [
    "Перебор гиперпараметров нейросети позволил получить значение метрики <code>accuracy</code> 0.7473 на тестовой выборке.\n",
    "\n",
    "Разность значений метрики качества на обучающей и тестовой выборках показывает наличие переобучения модели, однако регуляризация весов приводила только к снижению качества прогноза на обоих выборках.\n",
    "\n",
    "Наиболее эффективным оказалось попеременное использование слоёв с функциями активации <code>relu</code> и <code>sigmoid</code>.\n",
    "\n",
    "Также стоит отметить, что количество нейронов в слоях равное количеству признаков благотворно сказывается на качестве сети.\n",
    "\n",
    "Попробуем обучить градиентный бустинг и сравнить результаты."
   ]
  },
  {
   "cell_type": "markdown",
   "id": "438ad6e0",
   "metadata": {},
   "source": [
    "#### Градиентный бустинг"
   ]
  },
  {
   "cell_type": "code",
   "execution_count": 59,
   "id": "594cc2b1",
   "metadata": {},
   "outputs": [],
   "source": [
    "# Инициализация модели CatBoostClassifier со стандартными настройками.\n",
    "cbc = CatBoostClassifier(random_seed=GLOBAL__RANDOM_STATE)"
   ]
  },
  {
   "cell_type": "code",
   "execution_count": 61,
   "id": "29c85c33",
   "metadata": {},
   "outputs": [
    {
     "name": "stdout",
     "output_type": "stream",
     "text": [
      "Wall time: 1min 57s\n"
     ]
    },
    {
     "data": {
      "text/plain": [
       "<catboost.core.CatBoostClassifier at 0x260d7bf39d0>"
      ]
     },
     "execution_count": 61,
     "metadata": {},
     "output_type": "execute_result"
    }
   ],
   "source": [
    "%%time\n",
    "\n",
    "# Обучение модели.\n",
    "cbc.fit(X_train, y_train, verbose=0)"
   ]
  },
  {
   "cell_type": "code",
   "execution_count": 63,
   "id": "b39aec97",
   "metadata": {},
   "outputs": [
    {
     "data": {
      "text/plain": [
       "0.9768477292965272"
      ]
     },
     "execution_count": 63,
     "metadata": {},
     "output_type": "execute_result"
    }
   ],
   "source": [
    "# Оценка метрики \"accuracy\" на обучающей выборке.\n",
    "accuracy_score(y_train, cbc.predict(X_train))"
   ]
  },
  {
   "cell_type": "code",
   "execution_count": 64,
   "id": "22d93dfb",
   "metadata": {},
   "outputs": [
    {
     "data": {
      "text/plain": [
       "0.7686832740213523"
      ]
     },
     "execution_count": 64,
     "metadata": {},
     "output_type": "execute_result"
    }
   ],
   "source": [
    "# Оценка метрики \"accuracy\" на тестовой выборке.\n",
    "accuracy_score(y_test, cbc.predict(X_test))"
   ]
  },
  {
   "cell_type": "markdown",
   "id": "eb28a343",
   "metadata": {},
   "source": [
    "Согласно метрике <code>accuracy</code>, градиентный бустинг справился с задачей лучше, чем нейронная сеть. Значения метрик 0.77 и 0.75 у бустинга и нейросети соответственно.\n",
    "\n",
    "Однако также стоить заметить, что при сопоставимых показателях метрики качества нейронная сеть обучались быстрее в ~12 раз. Построение нейросети заняло ~10 секунд, градиентного бустинга - ~2 минуты."
   ]
  },
  {
   "cell_type": "code",
   "execution_count": null,
   "id": "796506bf",
   "metadata": {},
   "outputs": [],
   "source": []
  }
 ],
 "metadata": {
  "kernelspec": {
   "display_name": "Python 3 (ipykernel)",
   "language": "python",
   "name": "python3"
  },
  "language_info": {
   "codemirror_mode": {
    "name": "ipython",
    "version": 3
   },
   "file_extension": ".py",
   "mimetype": "text/x-python",
   "name": "python",
   "nbconvert_exporter": "python",
   "pygments_lexer": "ipython3",
   "version": "3.9.4"
  }
 },
 "nbformat": 4,
 "nbformat_minor": 5
}
