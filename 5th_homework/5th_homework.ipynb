{
 "cells": [
  {
   "cell_type": "markdown",
   "id": "9435b7f0",
   "metadata": {},
   "source": [
    "# Введение в нейронные сети"
   ]
  },
  {
   "cell_type": "markdown",
   "id": "d9264e76",
   "metadata": {},
   "source": [
    "## Урок 5. Рекуррентные нейронные сети"
   ]
  },
  {
   "cell_type": "markdown",
   "id": "4e538bd8",
   "metadata": {},
   "source": [
    "### Практическое задание"
   ]
  },
  {
   "cell_type": "markdown",
   "id": "094c1e92",
   "metadata": {},
   "source": [
    "1. Попробуйте изменить параметры нейронной сети, работающей с датасетом imdb, либо\n",
    "нейронной сети, работающей airline-passengers (она прилагается вместе с датасетом к\n",
    "уроку в виде отдельного скрипта) так, чтобы улучшить её точность. Приложите анализ.\n",
    "\n",
    "\n",
    "2. Попробуйте изменить параметры нейронной сети, генерирующей текст таким образом,\n",
    "чтобы добиться генерации как можно более осмысленного текста. Пришлите лучший\n",
    "текст из получившихся и опишите предпринятые для его получения действия. Можно\n",
    "использовать текст другого произведения."
   ]
  },
  {
   "cell_type": "markdown",
   "id": "eb11a27e",
   "metadata": {},
   "source": [
    "### Решение"
   ]
  },
  {
   "cell_type": "markdown",
   "id": "0b07bcce",
   "metadata": {},
   "source": [
    "#### Импорт библиотек"
   ]
  },
  {
   "cell_type": "code",
   "execution_count": 2,
   "id": "08cc70c1",
   "metadata": {},
   "outputs": [],
   "source": [
    "import numpy as np\n",
    "import pandas as pd\n",
    "\n",
    "import tensorflow as tf\n",
    "\n",
    "from tensorflow import keras\n",
    "\n",
    "from tensorflow.keras.preprocessing import sequence\n",
    "\n",
    "from tensorflow.keras.models import Sequential\n",
    "\n",
    "from tensorflow.keras.layers import Dense\n",
    "from tensorflow.keras.layers import Activation\n",
    "from tensorflow.keras.layers import Embedding\n",
    "from tensorflow.keras.layers import SimpleRNN\n",
    "from tensorflow.keras.layers import LSTM\n",
    "from tensorflow.keras.layers import GRU\n",
    "\n",
    "from tensorflow.keras.datasets import imdb"
   ]
  },
  {
   "cell_type": "markdown",
   "id": "24c0db51",
   "metadata": {},
   "source": [
    "#### Глобальные настройки проекта"
   ]
  },
  {
   "cell_type": "code",
   "execution_count": 3,
   "id": "671ceccd",
   "metadata": {},
   "outputs": [],
   "source": [
    "# Случайное зерно.\n",
    "GLOBAL__RANDOM_STATE = 0\n",
    "\n",
    "# Путь к тексту.\n",
    "PATH__WEIGHTS_BASELINE = r'alice_in_wonderland.txt'"
   ]
  },
  {
   "cell_type": "markdown",
   "id": "29dacd18",
   "metadata": {},
   "source": [
    "#### Задание 1 - датасет imdb"
   ]
  },
  {
   "cell_type": "code",
   "execution_count": 12,
   "id": "f79db73d",
   "metadata": {},
   "outputs": [],
   "source": [
    "# Параметры нейросети.\n",
    "max_features = 20000\n",
    "max_len = 80\n",
    "batch_size = 50"
   ]
  },
  {
   "cell_type": "code",
   "execution_count": 5,
   "id": "cfde38eb",
   "metadata": {},
   "outputs": [
    {
     "name": "stdout",
     "output_type": "stream",
     "text": [
      "Downloading data from https://storage.googleapis.com/tensorflow/tf-keras-datasets/imdb.npz\n",
      "17464789/17464789 [==============================] - 2s 0us/step\n"
     ]
    },
    {
     "data": {
      "text/plain": [
       "((25000,), (25000,), (25000,), (25000,))"
      ]
     },
     "execution_count": 5,
     "metadata": {},
     "output_type": "execute_result"
    }
   ],
   "source": [
    "# Загрузка данных.\n",
    "(X_train, y_train), (X_test, y_test) = imdb.load_data(num_words=max_features)\n",
    "\n",
    "# Проверка.\n",
    "X_train.shape, y_train.shape, X_test.shape, y_test.shape"
   ]
  },
  {
   "cell_type": "code",
   "execution_count": 7,
   "id": "d850deed",
   "metadata": {
    "scrolled": true
   },
   "outputs": [
    {
     "name": "stdout",
     "output_type": "stream",
     "text": [
      "Downloading data from https://storage.googleapis.com/tensorflow/tf-keras-datasets/imdb_word_index.json\n",
      "1641221/1641221 [==============================] - 0s 0us/step\n"
     ]
    }
   ],
   "source": [
    "# Словарь слово-индекс.\n",
    "word_index = imdb.get_word_index()\n",
    "\n",
    "# Словарь индекс-слово.\n",
    "inverted_word_index = dict((i, word) for (word, i) in word_index.items())"
   ]
  },
  {
   "cell_type": "code",
   "execution_count": 23,
   "id": "5a47924f",
   "metadata": {},
   "outputs": [],
   "source": [
    "# Усечение текстов.\n",
    "X_train = sequence.pad_sequences(X_train, maxlen=maxlen)\n",
    "X_test = sequence.pad_sequences(X_test, maxlen=maxlen)"
   ]
  },
  {
   "cell_type": "markdown",
   "id": "0eaf73ad",
   "metadata": {},
   "source": [
    "##### Исходная модель из урока"
   ]
  },
  {
   "cell_type": "code",
   "execution_count": 26,
   "id": "41f808e9",
   "metadata": {},
   "outputs": [],
   "source": [
    "# Настройка модели.\n",
    "model = Sequential()\n",
    "model.add(Embedding(max_features, 128))\n",
    "model.add(LSTM(128, dropout=0.2, recurrent_dropout=0.2))\n",
    "model.add(Dense(1, activation='sigmoid'))"
   ]
  },
  {
   "cell_type": "code",
   "execution_count": 27,
   "id": "60b39217",
   "metadata": {},
   "outputs": [],
   "source": [
    "# Компиляция.\n",
    "model.compile(loss='binary_crossentropy',\n",
    "              optimizer='adam',\n",
    "              metrics=['accuracy'])"
   ]
  },
  {
   "cell_type": "code",
   "execution_count": 29,
   "id": "4c5dfda8",
   "metadata": {},
   "outputs": [
    {
     "name": "stdout",
     "output_type": "stream",
     "text": [
      "500/500 [==============================] - 47s 91ms/step - loss: 0.4276 - accuracy: 0.7994 - val_loss: 0.3512 - val_accuracy: 0.8464\n",
      "Wall time: 47.2 s\n"
     ]
    },
    {
     "data": {
      "text/plain": [
       "<keras.callbacks.History at 0x15b786df3a0>"
      ]
     },
     "execution_count": 29,
     "metadata": {},
     "output_type": "execute_result"
    }
   ],
   "source": [
    "%%time\n",
    "\n",
    "# Обучение.\n",
    "model.fit(X_train,\n",
    "          y_train,\n",
    "          batch_size=batch_size,\n",
    "          epochs=1,\n",
    "          validation_data=(X_test, y_test))"
   ]
  },
  {
   "cell_type": "code",
   "execution_count": 30,
   "id": "d1993ffd",
   "metadata": {
    "scrolled": false
   },
   "outputs": [
    {
     "name": "stdout",
     "output_type": "stream",
     "text": [
      "500/500 [==============================] - 6s 11ms/step - loss: 0.3512 - accuracy: 0.8464\n",
      "Wall time: 5.67 s\n"
     ]
    },
    {
     "data": {
      "text/html": [
       "<div>\n",
       "<style scoped>\n",
       "    .dataframe tbody tr th:only-of-type {\n",
       "        vertical-align: middle;\n",
       "    }\n",
       "\n",
       "    .dataframe tbody tr th {\n",
       "        vertical-align: top;\n",
       "    }\n",
       "\n",
       "    .dataframe thead th {\n",
       "        text-align: right;\n",
       "    }\n",
       "</style>\n",
       "<table border=\"1\" class=\"dataframe\">\n",
       "  <thead>\n",
       "    <tr style=\"text-align: right;\">\n",
       "      <th></th>\n",
       "      <th>Loss</th>\n",
       "      <th>Accuracy</th>\n",
       "    </tr>\n",
       "  </thead>\n",
       "  <tbody>\n",
       "    <tr>\n",
       "      <th>Baseline</th>\n",
       "      <td>0.351244</td>\n",
       "      <td>0.84636</td>\n",
       "    </tr>\n",
       "  </tbody>\n",
       "</table>\n",
       "</div>"
      ],
      "text/plain": [
       "              Loss  Accuracy\n",
       "Baseline  0.351244   0.84636"
      ]
     },
     "execution_count": 30,
     "metadata": {},
     "output_type": "execute_result"
    }
   ],
   "source": [
    "%%time\n",
    "\n",
    "# Таблица метрик.\n",
    "df_metrics = pd.DataFrame()\n",
    "\n",
    "# Оценка модели.\n",
    "df_metrics.loc['Baseline', 'Loss'], df_metrics.loc['Baseline', 'Accuracy'] = (\n",
    "    model.evaluate(X_test, y_test, batch_size=batch_size)\n",
    ")\n",
    "\n",
    "# Вывод метрик.\n",
    "df_metrics"
   ]
  },
  {
   "cell_type": "markdown",
   "id": "ca44b334",
   "metadata": {},
   "source": [
    "##### Улучшенная модель"
   ]
  },
  {
   "cell_type": "code",
   "execution_count": 83,
   "id": "bf83aa1f",
   "metadata": {},
   "outputs": [],
   "source": [
    "# Настройка модели.\n",
    "model = Sequential()\n",
    "model.add(Embedding(max_features, 128))\n",
    "# model.add(Embedding(max_features, 128 * 2))\n",
    "# model.add(LSTM(128, dropout=0.1, recurrent_dropout=0.1))\n",
    "# model.add(LSTM(128, dropout=0.2, recurrent_dropout=0.2, return_sequences=True))\n",
    "model.add(LSTM(ваи128, dropout=0.2, recurrent_dropout=0.2))\n",
    "# model.add(LSTM(128 * 2, dropout=0.2, recurrent_dropout=0.2))\n",
    "# model.add(Dense(128, activation='sigmoid'))\n",
    "model.add(Dense(1, activation='sigmoid'))"
   ]
  },
  {
   "cell_type": "code",
   "execution_count": 84,
   "id": "fe8c99c1",
   "metadata": {},
   "outputs": [],
   "source": [
    "# Компиляция.\n",
    "model.compile(loss='binary_crossentropy',\n",
    "              optimizer='adam',\n",
    "              metrics=['accuracy'])"
   ]
  },
  {
   "cell_type": "code",
   "execution_count": 85,
   "id": "7fb604a8",
   "metadata": {},
   "outputs": [
    {
     "name": "stdout",
     "output_type": "stream",
     "text": [
      "500/500 [==============================] - 265s 527ms/step - loss: 0.4223 - accuracy: 0.8030 - val_loss: 0.3625 - val_accuracy: 0.8391\n",
      "Wall time: 4min 25s\n"
     ]
    },
    {
     "data": {
      "text/plain": [
       "<keras.callbacks.History at 0x15b7d1d40a0>"
      ]
     },
     "execution_count": 85,
     "metadata": {},
     "output_type": "execute_result"
    }
   ],
   "source": [
    "%%time\n",
    "\n",
    "# Обучение.\n",
    "model.fit(X_train,\n",
    "          y_train,\n",
    "          batch_size=batch_size,\n",
    "          epochs=1,\n",
    "#           epochs=3,\n",
    "#           epochs=5,\n",
    "          validation_data=(X_test, y_test))"
   ]
  },
  {
   "cell_type": "code",
   "execution_count": 86,
   "id": "60b124a3",
   "metadata": {
    "scrolled": false
   },
   "outputs": [
    {
     "name": "stdout",
     "output_type": "stream",
     "text": [
      "500/500 [==============================] - 53s 106ms/step - loss: 0.3625 - accuracy: 0.8391\n",
      "Wall time: 53.2 s\n"
     ]
    },
    {
     "data": {
      "text/html": [
       "<div>\n",
       "<style scoped>\n",
       "    .dataframe tbody tr th:only-of-type {\n",
       "        vertical-align: middle;\n",
       "    }\n",
       "\n",
       "    .dataframe tbody tr th {\n",
       "        vertical-align: top;\n",
       "    }\n",
       "\n",
       "    .dataframe thead th {\n",
       "        text-align: right;\n",
       "    }\n",
       "</style>\n",
       "<table border=\"1\" class=\"dataframe\">\n",
       "  <thead>\n",
       "    <tr style=\"text-align: right;\">\n",
       "      <th></th>\n",
       "      <th>Loss</th>\n",
       "      <th>Accuracy</th>\n",
       "    </tr>\n",
       "  </thead>\n",
       "  <tbody>\n",
       "    <tr>\n",
       "      <th>Baseline</th>\n",
       "      <td>0.351244</td>\n",
       "      <td>0.84636</td>\n",
       "    </tr>\n",
       "    <tr>\n",
       "      <th>Improved</th>\n",
       "      <td>0.362505</td>\n",
       "      <td>0.83908</td>\n",
       "    </tr>\n",
       "  </tbody>\n",
       "</table>\n",
       "</div>"
      ],
      "text/plain": [
       "              Loss  Accuracy\n",
       "Baseline  0.351244   0.84636\n",
       "Improved  0.362505   0.83908"
      ]
     },
     "execution_count": 86,
     "metadata": {},
     "output_type": "execute_result"
    }
   ],
   "source": [
    "%%time\n",
    "\n",
    "# Оценка модели.\n",
    "df_metrics.loc['Improved', 'Loss'], df_metrics.loc['Improved', 'Accuracy'] = (\n",
    "    model.evaluate(X_test, y_test, batch_size=batch_size)\n",
    ")\n",
    "\n",
    "# Вывод метрик.\n",
    "df_metrics"
   ]
  },
  {
   "cell_type": "markdown",
   "id": "564b1fdb",
   "metadata": {},
   "source": [
    "##### Выводы"
   ]
  },
  {
   "cell_type": "markdown",
   "id": "5a873c56",
   "metadata": {},
   "source": [
    "Ни один из следующих методов не позволил добиться улучшения метрики качества <code>Accuracy</code>:\n",
    "- увеличение количества эпох обучения модели;\n",
    "- добавление полносвязных слоёв <code>Dense</code> или рекуррентных слоёв <code>LSTM</code>;\n",
    "- увеличение количества нейронов в полносвязных и рекуррентных слоях;\n",
    "- изменение функций активации и метода оптимизации;\n",
    "- изменение доли обнуляемых весов при помощи настройки параметров <code>dropout</code> и <code>recurrent_dropout</code>.\n",
    "\n",
    "Возможно, из данных был получен максимум информации для данной модели и для получения лучших результатов требуется применение более совершенных алгоритмов."
   ]
  },
  {
   "cell_type": "markdown",
   "id": "9115b3f9",
   "metadata": {},
   "source": [
    "#### Задание 2 - генерация текста"
   ]
  },
  {
   "cell_type": "code",
   "execution_count": 87,
   "id": "d3e8992a",
   "metadata": {},
   "outputs": [],
   "source": [
    "# загрузка данных.\n",
    "with open(\"alice_in_wonderland.txt\", 'rb') as _in:\n",
    "    lines = []\n",
    "    for line in _in:\n",
    "        line = line.strip().lower().decode(\"ascii\", \"ignore\")\n",
    "        if len(line) == 0:\n",
    "            continue\n",
    "        lines.append(line)\n",
    "text = \" \".join(lines)\n",
    "chars = set(text)\n",
    "nb_chars = len(chars)"
   ]
  },
  {
   "cell_type": "code",
   "execution_count": 91,
   "id": "8f9d3f18",
   "metadata": {},
   "outputs": [],
   "source": [
    "# Словарь символ-индекс.\n",
    "char2index = {c: i for i, c in enumerate(chars)}\n",
    "\n",
    "# Словарь индекс-символ.\n",
    "index2char = {i: c for i, c in enumerate(chars)}"
   ]
  },
  {
   "cell_type": "markdown",
   "id": "724b5ffc",
   "metadata": {},
   "source": [
    "##### Исходная реализация признаков и модели"
   ]
  },
  {
   "cell_type": "code",
   "execution_count": 105,
   "id": "5cfe00cf",
   "metadata": {},
   "outputs": [],
   "source": [
    "# Генерация признаков, последовательность символов, и целевой переменной, следующего символа.\n",
    "SEQLEN, STEP = 10, 1\n",
    "input_chars, label_chars = [], []\n",
    "\n",
    "for i in range(0, len(text) - SEQLEN, STEP):\n",
    "    input_chars.append(text[i: i + SEQLEN])\n",
    "    label_chars.append(text[i + SEQLEN])"
   ]
  },
  {
   "cell_type": "code",
   "execution_count": 106,
   "id": "a4c12cd7",
   "metadata": {},
   "outputs": [],
   "source": [
    "# One-hot encoding признаков и целевой переменной.\n",
    "X = np.zeros((len(input_chars), SEQLEN, nb_chars), dtype=np.bool_)\n",
    "y = np.zeros((len(input_chars), nb_chars), dtype=np.bool_)\n",
    "\n",
    "for i, input_char in enumerate(input_chars):\n",
    "    for j, ch in enumerate(input_char):\n",
    "        X[i, j, char2index[ch]] = 1\n",
    "    y[i, char2index[label_chars[i]]] = 1"
   ]
  },
  {
   "cell_type": "code",
   "execution_count": 107,
   "id": "0c6121e0",
   "metadata": {},
   "outputs": [
    {
     "data": {
      "text/plain": [
       "((158773, 10, 55), (158773, 55))"
      ]
     },
     "execution_count": 107,
     "metadata": {},
     "output_type": "execute_result"
    }
   ],
   "source": [
    "# Проверка: вывод размерностей признаков и целевой переменной.\n",
    "X.shape, y.shape"
   ]
  },
  {
   "cell_type": "code",
   "execution_count": 108,
   "id": "7c0054ad",
   "metadata": {},
   "outputs": [],
   "source": [
    "# Параметры нейросети.\n",
    "BATCH_SIZE, HIDDEN_SIZE = 128, 128\n",
    "NUM_ITERATIONS = 10\n",
    "NUM_EPOCHS_PER_ITERATION = 1\n",
    "NUM_PREDS_PER_EPOCH = 100"
   ]
  },
  {
   "cell_type": "code",
   "execution_count": 109,
   "id": "fd8877bf",
   "metadata": {},
   "outputs": [],
   "source": [
    "model = Sequential()\n",
    "model.add(GRU(HIDDEN_SIZE,\n",
    "              return_sequences=False,\n",
    "              input_shape=(SEQLEN, nb_chars),\n",
    "              unroll=True))\n",
    "model.add(Dense(nb_chars))\n",
    "model.add(Activation(\"softmax\"))\n",
    "model.compile(loss=\"categorical_crossentropy\", optimizer=\"rmsprop\")"
   ]
  },
  {
   "cell_type": "code",
   "execution_count": 110,
   "id": "45fa3169",
   "metadata": {
    "scrolled": false
   },
   "outputs": [
    {
     "name": "stdout",
     "output_type": "stream",
     "text": [
      "\n",
      "==================================================\n",
      "Итерация 0\n",
      "1241/1241 [==============================] - 17s 13ms/step - loss: 2.3184\n",
      "Генерация из посева:\ted to list\n",
      "ed to list ou the wand the mand the mand the mand the mand the mand the mand the mand the mand the mand the ma\n",
      "==================================================\n",
      "Итерация 1\n",
      "1241/1241 [==============================] - 15s 12ms/step - loss: 1.9182\n",
      "Генерация из посева:\t us with o\n",
      " us with of the mack to the mack to the mack to the mack to the mack to the mack to the mack to the mack to th\n",
      "==================================================\n",
      "Итерация 2\n",
      "1241/1241 [==============================] - 15s 12ms/step - loss: 1.7512\n",
      "Генерация из посева:\tll that. w\n",
      "ll that. when the doresting the doresting the doresting the doresting the doresting the doresting the dorestin\n",
      "==================================================\n",
      "Итерация 3\n",
      "1241/1241 [==============================] - 15s 12ms/step - loss: 1.6423\n",
      "Генерация из посева:\td the dorm\n",
      "d the dormouse she was so she was so she was so she was so she was so she was so she was so she was so she was\n",
      "==================================================\n",
      "Итерация 4\n",
      "1241/1241 [==============================] - 15s 12ms/step - loss: 1.5624\n",
      "Генерация из посева:\tpping wet,\n",
      "pping wet, and white rabbit was to the thing the mock turtle said the king of the thing the mock turtle said t\n",
      "==================================================\n",
      "Итерация 5\n",
      "1241/1241 [==============================] - 15s 12ms/step - loss: 1.4988\n",
      "Генерация из посева:\t thought t\n",
      " thought the mouse the courted and all the reat of the rabbit was a little goor and all the reat of the rabbit\n",
      "==================================================\n",
      "Итерация 6\n",
      "1241/1241 [==============================] - 15s 12ms/step - loss: 1.4480\n",
      "Генерация из посева:\the kept to\n",
      "he kept to be a little sime the dormouse the courted to be a little sime the dormouse the courted to be a litt\n",
      "==================================================\n",
      "Итерация 7\n",
      "1241/1241 [==============================] - 15s 12ms/step - loss: 1.4055\n",
      "Генерация из посева:\tn, it was \n",
      "n, it was so she said to herself the sat she was got to see the door of the thing i dont began to see she had \n",
      "==================================================\n",
      "Итерация 8\n",
      "1241/1241 [==============================] - 15s 12ms/step - loss: 1.3683\n",
      "Генерация из посева:\te, as the \n",
      "e, as the door of the thing in a could not and a caterpillar she had not and a caterpillar she had not and a c\n",
      "==================================================\n",
      "Итерация 9\n",
      "1241/1241 [==============================] - 15s 12ms/step - loss: 1.3363\n",
      "Генерация из посева:\tthe only o\n",
      "the only of the tried the thing in a more of the thing in a more of the thing in a more of the thing in a moreWall time: 2min 57s\n"
     ]
    }
   ],
   "source": [
    "%%time\n",
    "\n",
    "for iteration in range(NUM_ITERATIONS):\n",
    "    # Обучение модели.\n",
    "    print('')\n",
    "    print('=' * 50)\n",
    "    print(f'Итерация {iteration}')\n",
    "    model.fit(X, y, batch_size=BATCH_SIZE, epochs=NUM_EPOCHS_PER_ITERATION)\n",
    "    \n",
    "    # Выбор случайной последовательности для проверки модели.\n",
    "    test_idx = np.random.randint(len(input_chars))\n",
    "    test_chars = input_chars[test_idx]\n",
    "    \n",
    "    # Вывод выбранной последовательности.\n",
    "    print(f'Генерация из посева:\\t{test_chars}')\n",
    "#     print(f'[{test_chars}]', end=\"\")\n",
    "    print(test_chars, end=\"\")\n",
    "    \n",
    "    # Прогноз.\n",
    "    for i in range(NUM_PREDS_PER_EPOCH):\n",
    "        \n",
    "        # Ohe-hot encoding тестовой выборки.\n",
    "        X_test = np.zeros((1, SEQLEN, nb_chars))\n",
    "        for j, ch in enumerate(test_chars):\n",
    "            X_test[0, j, char2index[ch]] = 1\n",
    "        \n",
    "        # Прогноз на тестовой выборке.\n",
    "        pred = model.predict(X_test, verbose=0)[0]\n",
    "        y_pred = index2char[np.argmax(pred)]\n",
    "        \n",
    "        # Вывод прогнозируемого символа.\n",
    "        print(y_pred, end=\"\")\n",
    "        \n",
    "        # Добавление спрогнозированного символа в тестовую выборку,\n",
    "        # чтобы в следующий раз делать прогноз с учётом текущего спрогнозируемого символа.\n",
    "        test_chars = test_chars[1:] + y_pred"
   ]
  },
  {
   "cell_type": "markdown",
   "id": "b79d3d48",
   "metadata": {},
   "source": [
    "##### Улучшенная модель - GRU и последовательность из 30 символов"
   ]
  },
  {
   "cell_type": "code",
   "execution_count": 118,
   "id": "794eb859",
   "metadata": {},
   "outputs": [],
   "source": [
    "# Генерация признаков, последовательность символов, и целевой переменной, следующего символа.\n",
    "# SEQLEN, STEP = 10, 1\n",
    "SEQLEN, STEP = 30, 1\n",
    "input_chars, label_chars = [], []\n",
    "\n",
    "for i in range(0, len(text) - SEQLEN, STEP):\n",
    "    input_chars.append(text[i: i + SEQLEN])\n",
    "    label_chars.append(text[i + SEQLEN])"
   ]
  },
  {
   "cell_type": "code",
   "execution_count": 119,
   "id": "7503485d",
   "metadata": {},
   "outputs": [],
   "source": [
    "# One-hot encoding признаков и целевой переменной.\n",
    "X = np.zeros((len(input_chars), SEQLEN, nb_chars), dtype=np.bool_)\n",
    "y = np.zeros((len(input_chars), nb_chars), dtype=np.bool_)\n",
    "\n",
    "for i, input_char in enumerate(input_chars):\n",
    "    for j, ch in enumerate(input_char):\n",
    "        X[i, j, char2index[ch]] = 1\n",
    "    y[i, char2index[label_chars[i]]] = 1"
   ]
  },
  {
   "cell_type": "code",
   "execution_count": 120,
   "id": "777c563a",
   "metadata": {},
   "outputs": [
    {
     "data": {
      "text/plain": [
       "((158753, 30, 55), (158753, 55))"
      ]
     },
     "execution_count": 120,
     "metadata": {},
     "output_type": "execute_result"
    }
   ],
   "source": [
    "# Проверка: вывод размерностей признаков и целевой переменной.\n",
    "X.shape, y.shape"
   ]
  },
  {
   "cell_type": "code",
   "execution_count": 121,
   "id": "b4d4e7fe",
   "metadata": {},
   "outputs": [],
   "source": [
    "# Параметры нейросети.\n",
    "BATCH_SIZE, HIDDEN_SIZE = 128, 128\n",
    "NUM_ITERATIONS = 10\n",
    "NUM_EPOCHS_PER_ITERATION = 1\n",
    "NUM_PREDS_PER_EPOCH = 100"
   ]
  },
  {
   "cell_type": "code",
   "execution_count": 122,
   "id": "37d14f66",
   "metadata": {},
   "outputs": [],
   "source": [
    "model = Sequential()\n",
    "model.add(GRU(HIDDEN_SIZE,\n",
    "              return_sequences=False,\n",
    "              input_shape=(SEQLEN, nb_chars),\n",
    "              unroll=True))\n",
    "model.add(Dense(nb_chars))\n",
    "model.add(Activation(\"softmax\"))\n",
    "model.compile(loss=\"categorical_crossentropy\", optimizer=\"rmsprop\")"
   ]
  },
  {
   "cell_type": "code",
   "execution_count": 123,
   "id": "247136b2",
   "metadata": {
    "scrolled": false
   },
   "outputs": [
    {
     "name": "stdout",
     "output_type": "stream",
     "text": [
      "\n",
      "==================================================\n",
      "Итерация 0\n",
      "1241/1241 [==============================] - 55s 41ms/step - loss: 2.2959\n",
      "Генерация из посева:\t provide a secure and permanen\n",
      " provide a secure and permanen the said the said the said the said the said the said the said the said the said the said the said \n",
      "\n",
      "==================================================\n",
      "Итерация 1\n",
      "1241/1241 [==============================] - 50s 40ms/step - loss: 1.9094\n",
      "Генерация из посева:\tad through the doorway; and ev\n",
      "ad through the doorway; and ever all the said the said the said the said the said the said the said the said the said the said the\n",
      "\n",
      "==================================================\n",
      "Итерация 2\n",
      "1241/1241 [==============================] - 50s 40ms/step - loss: 1.7459\n",
      "Генерация из посева:\tlittle door, so she went back \n",
      "little door, so she went back the could the could the could the could the could the could the could the could the could the could \n",
      "\n",
      "==================================================\n",
      "Итерация 3\n",
      "1241/1241 [==============================] - 50s 40ms/step - loss: 1.6374\n",
      "Генерация из посева:\tse, that she did not like to g\n",
      "se, that she did not like to get in a little said to the mack to the mack to the mack to the mack to the mack to the mack to the m\n",
      "\n",
      "==================================================\n",
      "Итерация 4\n",
      "1241/1241 [==============================] - 50s 40ms/step - loss: 1.5572\n",
      "Генерация из посева:\tind of authority over alice. s\n",
      "ind of authority over alice. she was to the dormouse in the mock turtle as the dormouse in the mock turtle as the dormouse in the \n",
      "\n",
      "==================================================\n",
      "Итерация 5\n",
      "1241/1241 [==============================] - 50s 40ms/step - loss: 1.4944\n",
      "Генерация из посева:\t evidence here! cried alice, q\n",
      " evidence here! cried alice, quite a little she was to the project gutenberg-tm to some of the court, and they was the caterpillar\n",
      "\n",
      "==================================================\n",
      "Итерация 6\n",
      "1241/1241 [==============================] - 49s 40ms/step - loss: 1.4427\n",
      "Генерация из посева:\tryphon added come, lets hear s\n",
      "ryphon added come, lets hear she was not the thing the order and the share was a little began to say in a little this time the cou\n",
      "\n",
      "==================================================\n",
      "Итерация 7\n",
      "1241/1241 [==============================] - 50s 40ms/step - loss: 1.3999\n",
      "Генерация из посева:\tsh out of the way-- that gener\n",
      "sh out of the way-- that generally and the way of the way of the was the way of the was the way of the was the way of the was the \n",
      "\n",
      "==================================================\n",
      "Итерация 8\n",
      "1241/1241 [==============================] - 50s 40ms/step - loss: 1.3630\n",
      "Генерация из посева:\tou want to see how he did it,)\n",
      "ou want to see how he did it,) it was so the mock turtle in the seaper the project gutenberg-tm electronic work in a little thing \n",
      "\n",
      "==================================================\n",
      "Итерация 9\n",
      "1241/1241 [==============================] - 50s 40ms/step - loss: 1.3317\n",
      "Генерация из посева:\ttes that she wasnt a bit afrai\n",
      "tes that she wasnt a bit afraid the poor as she was a little began on the poor as she was a little began on the poor as she was a \n",
      "Wall time: 8min 47s\n"
     ]
    }
   ],
   "source": [
    "%%time\n",
    "\n",
    "for iteration in range(NUM_ITERATIONS):\n",
    "    # Обучение модели.\n",
    "    print('')\n",
    "    print('=' * 50)\n",
    "    print(f'Итерация {iteration}')\n",
    "    model.fit(X, y, batch_size=BATCH_SIZE, epochs=NUM_EPOCHS_PER_ITERATION)\n",
    "    \n",
    "    # Выбор случайной последовательности для проверки модели.\n",
    "    test_idx = np.random.randint(len(input_chars))\n",
    "    test_chars = input_chars[test_idx]\n",
    "    \n",
    "    # Вывод выбранной последовательности.\n",
    "    print(f'Генерация из посева:\\t{test_chars}')\n",
    "#     print(f'[{test_chars}]', end=\"\")\n",
    "    print(test_chars, end=\"\")\n",
    "    \n",
    "    # Прогноз.\n",
    "    for i in range(NUM_PREDS_PER_EPOCH):\n",
    "        \n",
    "        # Ohe-hot encoding тестовой выборки.\n",
    "        X_test = np.zeros((1, SEQLEN, nb_chars))\n",
    "        for j, ch in enumerate(test_chars):\n",
    "            X_test[0, j, char2index[ch]] = 1\n",
    "        \n",
    "        # Прогноз на тестовой выборке.\n",
    "        pred = model.predict(X_test, verbose=0)[0]\n",
    "        y_pred = index2char[np.argmax(pred)]\n",
    "        \n",
    "        # Вывод прогнозируемого символа.\n",
    "        print(y_pred, end=\"\")\n",
    "        \n",
    "        # Добавление спрогнозированного символа в тестовую выборку,\n",
    "        # чтобы в следующий раз делать прогноз с учётом текущего спрогнозируемого символа.\n",
    "        test_chars = test_chars[1:] + y_pred\n",
    "\n",
    "    print('')"
   ]
  },
  {
   "cell_type": "markdown",
   "id": "2d85ebe1",
   "metadata": {},
   "source": [
    "##### Улучшенная модель - LSTM и последовательность из 30 символов"
   ]
  },
  {
   "cell_type": "code",
   "execution_count": 124,
   "id": "0f5a8e36",
   "metadata": {},
   "outputs": [],
   "source": [
    "# Генерация признаков, последовательность символов, и целевой переменной, следующего символа.\n",
    "# SEQLEN, STEP = 10, 1\n",
    "SEQLEN, STEP = 30, 1\n",
    "input_chars, label_chars = [], []\n",
    "\n",
    "for i in range(0, len(text) - SEQLEN, STEP):\n",
    "    input_chars.append(text[i: i + SEQLEN])\n",
    "    label_chars.append(text[i + SEQLEN])"
   ]
  },
  {
   "cell_type": "code",
   "execution_count": 125,
   "id": "fe8e678b",
   "metadata": {},
   "outputs": [],
   "source": [
    "# One-hot encoding признаков и целевой переменной.\n",
    "X = np.zeros((len(input_chars), SEQLEN, nb_chars), dtype=np.bool_)\n",
    "y = np.zeros((len(input_chars), nb_chars), dtype=np.bool_)\n",
    "\n",
    "for i, input_char in enumerate(input_chars):\n",
    "    for j, ch in enumerate(input_char):\n",
    "        X[i, j, char2index[ch]] = 1\n",
    "    y[i, char2index[label_chars[i]]] = 1"
   ]
  },
  {
   "cell_type": "code",
   "execution_count": 126,
   "id": "6079ecfc",
   "metadata": {},
   "outputs": [
    {
     "data": {
      "text/plain": [
       "((158753, 30, 55), (158753, 55))"
      ]
     },
     "execution_count": 126,
     "metadata": {},
     "output_type": "execute_result"
    }
   ],
   "source": [
    "# Проверка: вывод размерностей признаков и целевой переменной.\n",
    "X.shape, y.shape"
   ]
  },
  {
   "cell_type": "code",
   "execution_count": 127,
   "id": "cd2fe634",
   "metadata": {},
   "outputs": [],
   "source": [
    "# Параметры нейросети.\n",
    "BATCH_SIZE, HIDDEN_SIZE = 128, 128\n",
    "NUM_ITERATIONS = 10\n",
    "NUM_EPOCHS_PER_ITERATION = 1\n",
    "NUM_PREDS_PER_EPOCH = 100"
   ]
  },
  {
   "cell_type": "code",
   "execution_count": 128,
   "id": "b1ede3d4",
   "metadata": {},
   "outputs": [],
   "source": [
    "model = Sequential()\n",
    "model.add(LSTM(HIDDEN_SIZE,\n",
    "               return_sequences=False,\n",
    "               input_shape=(SEQLEN, nb_chars),\n",
    "               unroll=True))\n",
    "model.add(Dense(nb_chars))\n",
    "model.add(Activation(\"softmax\"))\n",
    "model.compile(loss=\"categorical_crossentropy\", optimizer=\"rmsprop\")"
   ]
  },
  {
   "cell_type": "code",
   "execution_count": 129,
   "id": "0fde7a54",
   "metadata": {
    "scrolled": false
   },
   "outputs": [
    {
     "name": "stdout",
     "output_type": "stream",
     "text": [
      "\n",
      "==================================================\n",
      "Итерация 0\n",
      "1241/1241 [==============================] - 60s 46ms/step - loss: 2.4404\n",
      "Генерация из посева:\tqueen said-- get to your place\n",
      "queen said-- get to your place the said the said the said the said the said the said the said the said the said the said the said \n",
      "\n",
      "==================================================\n",
      "Итерация 1\n",
      "1241/1241 [==============================] - 55s 44ms/step - loss: 2.0382\n",
      "Генерация из посева:\ttenberg-tm electronic works ev\n",
      "tenberg-tm electronic works ever the mast the mast the mast the mast the mast the mast the mast the mast the mast the mast the mas\n",
      "\n",
      "==================================================\n",
      "Итерация 2\n",
      "1241/1241 [==============================] - 56s 45ms/step - loss: 1.8621\n",
      "Генерация из посева:\tject gutenberg literary archiv\n",
      "ject gutenberg literary archive the mare was the said the mare the said the mare the said the mare the said the mare the said the \n",
      "\n",
      "==================================================\n",
      "Итерация 3\n",
      "1241/1241 [==============================] - 56s 45ms/step - loss: 1.7436\n",
      "Генерация из посева:\tsoon left alone. i wish i hadn\n",
      "soon left alone. i wish i hadnt to the said the grop on the said the grop on the said the grop on the said the grop on the said th\n",
      "\n",
      "==================================================\n",
      "Итерация 4\n",
      "1241/1241 [==============================] - 56s 45ms/step - loss: 1.6537\n",
      "Генерация из посева:\t then all the party were place\n",
      " then all the party were place the was said the dore of the sable said the dormouse the sable said the dormouse the sable said the\n",
      "\n",
      "==================================================\n",
      "Итерация 5\n",
      "1241/1241 [==============================] - 56s 45ms/step - loss: 1.5809\n",
      "Генерация из посева:\tans of obtaining a copy upon r\n",
      "ans of obtaining a copy upon recerting to be a the store. the gryphon the project gutenberg-tm electronic works the waster the was\n",
      "\n",
      "==================================================\n",
      "Итерация 6\n",
      "1241/1241 [==============================] - 56s 45ms/step - loss: 1.5208\n",
      "Генерация из посева:\t going on between the executio\n",
      " going on between the executions work in the could of the tormouse of the courter of the could of the tormouse of the courter of t\n",
      "\n",
      "==================================================\n",
      "Итерация 7\n",
      "1241/1241 [==============================] - 56s 45ms/step - loss: 1.4693\n",
      "Генерация из посева:\tof its mouth and yawned once o\n",
      "of its mouth and yawned once of the court, and the dormouse of the court, and the dormouse of the court, and the dormouse of the c\n",
      "\n",
      "==================================================\n",
      "Итерация 8\n",
      "1241/1241 [==============================] - 56s 45ms/step - loss: 1.4245\n",
      "Генерация из посева:\tone of them attempted to expla\n",
      "one of them attempted to explain the poor and was a little brood of the rabbit of the work of the project gutenberg-tm electronic \n",
      "\n",
      "==================================================\n",
      "Итерация 9\n",
      "1241/1241 [==============================] - 56s 45ms/step - loss: 1.3870\n",
      "Генерация из посева:\tres hid their faces in their p\n",
      "res hid their faces in their project gutenberg to electronic work and with the was a little barks of the sart. i should be was to \n",
      "Wall time: 9min 48s\n"
     ]
    }
   ],
   "source": [
    "%%time\n",
    "\n",
    "for iteration in range(NUM_ITERATIONS):\n",
    "    # Обучение модели.\n",
    "    print('')\n",
    "    print('=' * 50)\n",
    "    print(f'Итерация {iteration}')\n",
    "    model.fit(X, y, batch_size=BATCH_SIZE, epochs=NUM_EPOCHS_PER_ITERATION)\n",
    "    \n",
    "    # Выбор случайной последовательности для проверки модели.\n",
    "    test_idx = np.random.randint(len(input_chars))\n",
    "    test_chars = input_chars[test_idx]\n",
    "    \n",
    "    # Вывод выбранной последовательности.\n",
    "    print(f'Генерация из посева:\\t{test_chars}')\n",
    "#     print(f'[{test_chars}]', end=\"\")\n",
    "    print(test_chars, end=\"\")\n",
    "    \n",
    "    # Прогноз.\n",
    "    for i in range(NUM_PREDS_PER_EPOCH):\n",
    "        \n",
    "        # Ohe-hot encoding тестовой выборки.\n",
    "        X_test = np.zeros((1, SEQLEN, nb_chars))\n",
    "        for j, ch in enumerate(test_chars):\n",
    "            X_test[0, j, char2index[ch]] = 1\n",
    "        \n",
    "        # Прогноз на тестовой выборке.\n",
    "        pred = model.predict(X_test, verbose=0)[0]\n",
    "        y_pred = index2char[np.argmax(pred)]\n",
    "        \n",
    "        # Вывод прогнозируемого символа.\n",
    "        print(y_pred, end=\"\")\n",
    "        \n",
    "        # Добавление спрогнозированного символа в тестовую выборку,\n",
    "        # чтобы в следующий раз делать прогноз с учётом текущего спрогнозируемого символа.\n",
    "        test_chars = test_chars[1:] + y_pred\n",
    "\n",
    "    print('')"
   ]
  },
  {
   "cell_type": "markdown",
   "id": "0dc1adb0",
   "metadata": {},
   "source": [
    "##### Выводы"
   ]
  },
  {
   "cell_type": "markdown",
   "id": "50fb8662",
   "metadata": {},
   "source": [
    "Применение различных рекурретных слоёв показывает, что для повышения точности прогноза последовательностей модели необходимо достаточное количество элементов в последовательности.\n",
    "\n",
    "Так, увеличение последовательности символов с 10 до 30 позволило модели с рекуррентным слоем <code>GRU</code> снизить значение функции потерь кросс-энтропии с 1.3363 до 1.3317."
   ]
  },
  {
   "cell_type": "code",
   "execution_count": null,
   "id": "217f0a06",
   "metadata": {},
   "outputs": [],
   "source": []
  }
 ],
 "metadata": {
  "kernelspec": {
   "display_name": "Python 3",
   "language": "python",
   "name": "python3"
  },
  "language_info": {
   "codemirror_mode": {
    "name": "ipython",
    "version": 3
   },
   "file_extension": ".py",
   "mimetype": "text/x-python",
   "name": "python",
   "nbconvert_exporter": "python",
   "pygments_lexer": "ipython3",
   "version": "3.9.1"
  },
  "toc": {
   "base_numbering": 1,
   "nav_menu": {},
   "number_sections": false,
   "sideBar": true,
   "skip_h1_title": false,
   "title_cell": "Table of Contents",
   "title_sidebar": "Contents",
   "toc_cell": false,
   "toc_position": {},
   "toc_section_display": true,
   "toc_window_display": true
  },
  "varInspector": {
   "cols": {
    "lenName": 16,
    "lenType": 16,
    "lenVar": 40
   },
   "kernels_config": {
    "python": {
     "delete_cmd_postfix": "",
     "delete_cmd_prefix": "del ",
     "library": "var_list.py",
     "varRefreshCmd": "print(var_dic_list())"
    },
    "r": {
     "delete_cmd_postfix": ") ",
     "delete_cmd_prefix": "rm(",
     "library": "var_list.r",
     "varRefreshCmd": "cat(var_dic_list()) "
    }
   },
   "types_to_exclude": [
    "module",
    "function",
    "builtin_function_or_method",
    "instance",
    "_Feature"
   ],
   "window_display": false
  }
 },
 "nbformat": 4,
 "nbformat_minor": 5
}
