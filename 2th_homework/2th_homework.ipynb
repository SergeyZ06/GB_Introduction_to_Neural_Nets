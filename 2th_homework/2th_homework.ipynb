{
 "cells": [
  {
   "cell_type": "markdown",
   "id": "7fff38bc",
   "metadata": {},
   "source": [
    "# Введение в нейронные сети"
   ]
  },
  {
   "cell_type": "markdown",
   "id": "0e08a737",
   "metadata": {},
   "source": [
    "## Урок 2. Keras"
   ]
  },
  {
   "cell_type": "markdown",
   "id": "736331bb",
   "metadata": {},
   "source": [
    "### Практическое задание"
   ]
  },
  {
   "cell_type": "markdown",
   "id": "6fbce162",
   "metadata": {},
   "source": [
    "1) Попробуйте обучить, нейронную сеть на Keras (рассмотренную на уроке) на датасете MNIST с другими параметрами. Напишите в комментарии к уроку:\n",
    "- Какого результата вы добились от нейросети?\n",
    "- Что помогло вам улучшить её точность?\n",
    "\n",
    "2) Поработайте с документацией Keras. Попробуйте найти полезные команды Keras, неразобранные на уроке."
   ]
  },
  {
   "cell_type": "markdown",
   "id": "99115a20",
   "metadata": {},
   "source": [
    "### Решение"
   ]
  },
  {
   "cell_type": "markdown",
   "id": "d16f5a5d",
   "metadata": {},
   "source": [
    "Изучение документации TensorFlow показывает наличие множества функций активации в библиотеке <code>tensorflow.nn</code>.\n",
    "\n",
    "Попробуем применить несколько различных функций активации и сравнить качество с исходной моделью с урока. Также изменим метод оптимизации и количество нейронов и слоёв."
   ]
  },
  {
   "cell_type": "markdown",
   "id": "171384c7",
   "metadata": {},
   "source": [
    "#### Исходный код с урока"
   ]
  },
  {
   "cell_type": "markdown",
   "id": "83fe8125",
   "metadata": {},
   "source": [
    "##### Импорт библиотек"
   ]
  },
  {
   "cell_type": "code",
   "execution_count": 1,
   "id": "b62b5564",
   "metadata": {},
   "outputs": [],
   "source": [
    "import numpy as np \n",
    "import pandas as pd\n",
    "\n",
    "import mnist\n",
    "\n",
    "from tensorflow.keras.models import Sequential\n",
    "from tensorflow.keras.layers import Dense\n",
    "from tensorflow.keras.utils import to_categorical\n",
    "\n",
    "from sklearn.metrics import classification_report"
   ]
  },
  {
   "cell_type": "markdown",
   "id": "d0001a70",
   "metadata": {},
   "source": [
    "#### Загрузка и подготовка данных данных"
   ]
  },
  {
   "cell_type": "code",
   "execution_count": 2,
   "id": "72fffc69",
   "metadata": {
    "scrolled": true
   },
   "outputs": [
    {
     "name": "stdout",
     "output_type": "stream",
     "text": [
      "(60000, 28, 28)\n",
      "(60000,)\n"
     ]
    }
   ],
   "source": [
    "# The first time you run this might be a bit slow, since the\n",
    "# mnist package has to download and cache the data.\n",
    "train_images = mnist.train_images()\n",
    "train_labels = mnist.train_labels()\n",
    "\n",
    "test_images = mnist.test_images()\n",
    "test_labels = mnist.test_labels()\n",
    "\n",
    "# Normalize the images.\n",
    "train_images = (train_images / 255) - 0.5\n",
    "test_images = (test_images / 255) - 0.5\n",
    "\n",
    "print(train_images.shape) # (60000, 28, 28)\n",
    "print(train_labels.shape) # (60000,)"
   ]
  },
  {
   "cell_type": "code",
   "execution_count": 3,
   "id": "d5846136",
   "metadata": {
    "scrolled": false
   },
   "outputs": [
    {
     "name": "stdout",
     "output_type": "stream",
     "text": [
      "(60000, 784)\n",
      "(10000, 784)\n"
     ]
    }
   ],
   "source": [
    "# Flatten the images.\n",
    "train_images = train_images.reshape((-1, 784))\n",
    "test_images = test_images.reshape((-1, 784))\n",
    "\n",
    "print(train_images.shape) # (60000, 784)\n",
    "print(test_images.shape)  # (10000, 784)"
   ]
  },
  {
   "cell_type": "markdown",
   "id": "32165416",
   "metadata": {},
   "source": [
    "##### Построение модели"
   ]
  },
  {
   "cell_type": "code",
   "execution_count": 4,
   "id": "2cb8b9de",
   "metadata": {},
   "outputs": [],
   "source": [
    "# альтернативная запись\n",
    "model = Sequential([\n",
    "  Dense(64, activation='relu', input_shape=(784,)),\n",
    "  Dense(64, activation='relu'),\n",
    "  Dense(10, activation='sigmoid'),\n",
    "])"
   ]
  },
  {
   "cell_type": "code",
   "execution_count": 5,
   "id": "46ad0349",
   "metadata": {},
   "outputs": [],
   "source": [
    "# создание keras модели\n",
    "model.compile(loss='categorical_crossentropy', optimizer='adam', metrics=['accuracy'])"
   ]
  },
  {
   "cell_type": "code",
   "execution_count": 6,
   "id": "d559aec2",
   "metadata": {
    "scrolled": true
   },
   "outputs": [
    {
     "name": "stdout",
     "output_type": "stream",
     "text": [
      "Epoch 1/5\n",
      "1875/1875 [==============================] - 1s 558us/step - loss: 0.3517 - accuracy: 0.8946\n",
      "Epoch 2/5\n",
      "1875/1875 [==============================] - 1s 569us/step - loss: 0.1824 - accuracy: 0.9454\n",
      "Epoch 3/5\n",
      "1875/1875 [==============================] - 1s 548us/step - loss: 0.1390 - accuracy: 0.9572\n",
      "Epoch 4/5\n",
      "1875/1875 [==============================] - 1s 539us/step - loss: 0.1176 - accuracy: 0.9643\n",
      "Epoch 5/5\n",
      "1875/1875 [==============================] - 1s 526us/step - loss: 0.1027 - accuracy: 0.9679\n",
      "Wall time: 5.45 s\n"
     ]
    },
    {
     "data": {
      "text/plain": [
       "<keras.callbacks.History at 0x237a19a7910>"
      ]
     },
     "execution_count": 6,
     "metadata": {},
     "output_type": "execute_result"
    }
   ],
   "source": [
    "%%time\n",
    "\n",
    "model.fit(train_images, \n",
    "          to_categorical(train_labels), \n",
    "          epochs=5, \n",
    "          batch_size=32)"
   ]
  },
  {
   "cell_type": "markdown",
   "id": "c5d84f4f",
   "metadata": {},
   "source": [
    "##### Валидация модели"
   ]
  },
  {
   "cell_type": "code",
   "execution_count": 7,
   "id": "8d3c7074",
   "metadata": {},
   "outputs": [
    {
     "name": "stdout",
     "output_type": "stream",
     "text": [
      "313/313 [==============================] - 0s 453us/step - loss: 0.1336 - accuracy: 0.9589\n"
     ]
    },
    {
     "data": {
      "text/plain": [
       "[0.13357968628406525, 0.958899974822998]"
      ]
     },
     "execution_count": 7,
     "metadata": {},
     "output_type": "execute_result"
    }
   ],
   "source": [
    "# Evaluate the model.\n",
    "model.evaluate(\n",
    "  test_images,\n",
    "  to_categorical(test_labels)\n",
    ")"
   ]
  },
  {
   "cell_type": "code",
   "execution_count": 8,
   "id": "8229ec2d",
   "metadata": {},
   "outputs": [
    {
     "name": "stdout",
     "output_type": "stream",
     "text": [
      "313/313 [==============================] - 0s 461us/step - loss: 0.1336 - accuracy: 0.9589\n"
     ]
    },
    {
     "data": {
      "text/html": [
       "<div>\n",
       "<style scoped>\n",
       "    .dataframe tbody tr th:only-of-type {\n",
       "        vertical-align: middle;\n",
       "    }\n",
       "\n",
       "    .dataframe tbody tr th {\n",
       "        vertical-align: top;\n",
       "    }\n",
       "\n",
       "    .dataframe thead th {\n",
       "        text-align: right;\n",
       "    }\n",
       "</style>\n",
       "<table border=\"1\" class=\"dataframe\">\n",
       "  <thead>\n",
       "    <tr style=\"text-align: right;\">\n",
       "      <th></th>\n",
       "      <th>time</th>\n",
       "      <th>Accuracy</th>\n",
       "    </tr>\n",
       "  </thead>\n",
       "  <tbody>\n",
       "    <tr>\n",
       "      <th>BaseLine</th>\n",
       "      <td>5.27 s</td>\n",
       "      <td>0.9589</td>\n",
       "    </tr>\n",
       "  </tbody>\n",
       "</table>\n",
       "</div>"
      ],
      "text/plain": [
       "            time  Accuracy\n",
       "BaseLine  5.27 s    0.9589"
      ]
     },
     "execution_count": 8,
     "metadata": {},
     "output_type": "execute_result"
    }
   ],
   "source": [
    "df_metrics = pd.DataFrame()\n",
    "\n",
    "df_metrics.loc['BaseLine', 'time'] = '5.27 s'\n",
    "df_metrics.loc['BaseLine', 'Accuracy'] = model.evaluate(\n",
    "  test_images,\n",
    "  to_categorical(test_labels)\n",
    ")[1]\n",
    "\n",
    "df_metrics"
   ]
  },
  {
   "cell_type": "code",
   "execution_count": 9,
   "id": "5b69e6c0",
   "metadata": {},
   "outputs": [
    {
     "name": "stdout",
     "output_type": "stream",
     "text": [
      "Wall time: 227 ms\n"
     ]
    }
   ],
   "source": [
    "%%time\n",
    "\n",
    "predictions = model.predict(test_images)\n",
    "predictions = np.argmax(predictions, axis=1)"
   ]
  },
  {
   "cell_type": "code",
   "execution_count": 10,
   "id": "0ba0bcb2",
   "metadata": {
    "scrolled": true
   },
   "outputs": [
    {
     "name": "stdout",
     "output_type": "stream",
     "text": [
      "              precision    recall  f1-score   support\n",
      "\n",
      "           0       0.99      0.98      0.99       980\n",
      "           1       0.99      0.98      0.99      1135\n",
      "           2       0.97      0.96      0.97      1032\n",
      "           3       0.95      0.95      0.95      1010\n",
      "           4       0.99      0.89      0.94       982\n",
      "           5       0.91      0.99      0.95       892\n",
      "           6       0.98      0.96      0.97       958\n",
      "           7       0.97      0.94      0.96      1028\n",
      "           8       0.94      0.98      0.96       974\n",
      "           9       0.90      0.96      0.93      1009\n",
      "\n",
      "    accuracy                           0.96     10000\n",
      "   macro avg       0.96      0.96      0.96     10000\n",
      "weighted avg       0.96      0.96      0.96     10000\n",
      "\n"
     ]
    }
   ],
   "source": [
    "print(classification_report(test_labels, predictions))"
   ]
  },
  {
   "cell_type": "markdown",
   "id": "2f2919fb",
   "metadata": {},
   "source": [
    "#### Функция активации \"tanh\""
   ]
  },
  {
   "cell_type": "code",
   "execution_count": 11,
   "id": "ca5cc9e8",
   "metadata": {},
   "outputs": [],
   "source": [
    "from tensorflow.nn import tanh"
   ]
  },
  {
   "cell_type": "code",
   "execution_count": 12,
   "id": "dfa3c058",
   "metadata": {},
   "outputs": [
    {
     "name": "stdout",
     "output_type": "stream",
     "text": [
      "Epoch 1/5\n",
      "1875/1875 [==============================] - 1s 532us/step - loss: 0.3338 - accuracy: 0.9009\n",
      "Epoch 2/5\n",
      "1875/1875 [==============================] - 1s 537us/step - loss: 0.1691 - accuracy: 0.9492\n",
      "Epoch 3/5\n",
      "1875/1875 [==============================] - 1s 527us/step - loss: 0.1292 - accuracy: 0.9610\n",
      "Epoch 4/5\n",
      "1875/1875 [==============================] - 1s 528us/step - loss: 0.1085 - accuracy: 0.9666\n",
      "Epoch 5/5\n",
      "1875/1875 [==============================] - 1s 527us/step - loss: 0.0967 - accuracy: 0.9697\n",
      "Wall time: 5.26 s\n"
     ]
    },
    {
     "data": {
      "text/plain": [
       "<keras.callbacks.History at 0x237a7e1dd60>"
      ]
     },
     "execution_count": 12,
     "metadata": {},
     "output_type": "execute_result"
    }
   ],
   "source": [
    "%%time\n",
    "\n",
    "model_2 = Sequential([\n",
    "  Dense(64, activation=tanh, input_shape=(784,)),\n",
    "  Dense(64, activation=tanh),\n",
    "  Dense(10, activation='sigmoid'),\n",
    "])\n",
    "\n",
    "model_2.compile(loss='categorical_crossentropy', optimizer='adam', metrics=['accuracy'])\n",
    "\n",
    "model_2.fit(train_images,\n",
    "            to_categorical(train_labels),\n",
    "            epochs=5,\n",
    "            batch_size=32)"
   ]
  },
  {
   "cell_type": "code",
   "execution_count": 13,
   "id": "493662e7",
   "metadata": {},
   "outputs": [
    {
     "name": "stdout",
     "output_type": "stream",
     "text": [
      "313/313 [==============================] - 0s 463us/step - loss: 0.1200 - accuracy: 0.9610\n"
     ]
    },
    {
     "data": {
      "text/html": [
       "<div>\n",
       "<style scoped>\n",
       "    .dataframe tbody tr th:only-of-type {\n",
       "        vertical-align: middle;\n",
       "    }\n",
       "\n",
       "    .dataframe tbody tr th {\n",
       "        vertical-align: top;\n",
       "    }\n",
       "\n",
       "    .dataframe thead th {\n",
       "        text-align: right;\n",
       "    }\n",
       "</style>\n",
       "<table border=\"1\" class=\"dataframe\">\n",
       "  <thead>\n",
       "    <tr style=\"text-align: right;\">\n",
       "      <th></th>\n",
       "      <th>time</th>\n",
       "      <th>Accuracy</th>\n",
       "    </tr>\n",
       "  </thead>\n",
       "  <tbody>\n",
       "    <tr>\n",
       "      <th>BaseLine</th>\n",
       "      <td>5.27 s</td>\n",
       "      <td>0.9589</td>\n",
       "    </tr>\n",
       "    <tr>\n",
       "      <th>tanh</th>\n",
       "      <td>5.32 s</td>\n",
       "      <td>0.9610</td>\n",
       "    </tr>\n",
       "  </tbody>\n",
       "</table>\n",
       "</div>"
      ],
      "text/plain": [
       "            time  Accuracy\n",
       "BaseLine  5.27 s    0.9589\n",
       "tanh      5.32 s    0.9610"
      ]
     },
     "execution_count": 13,
     "metadata": {},
     "output_type": "execute_result"
    }
   ],
   "source": [
    "df_metrics.loc['tanh', 'time'] = '5.32 s'\n",
    "df_metrics.loc['tanh', 'Accuracy'] = model_2.evaluate(\n",
    "  test_images,\n",
    "  to_categorical(test_labels)\n",
    ")[1]\n",
    "\n",
    "df_metrics"
   ]
  },
  {
   "cell_type": "code",
   "execution_count": 14,
   "id": "d790fd00",
   "metadata": {},
   "outputs": [
    {
     "name": "stdout",
     "output_type": "stream",
     "text": [
      "              precision    recall  f1-score   support\n",
      "\n",
      "           0       0.98      0.98      0.98       980\n",
      "           1       0.99      0.98      0.99      1135\n",
      "           2       0.98      0.92      0.95      1032\n",
      "           3       0.93      0.98      0.95      1010\n",
      "           4       0.96      0.97      0.96       982\n",
      "           5       0.94      0.96      0.95       892\n",
      "           6       0.97      0.98      0.97       958\n",
      "           7       0.95      0.97      0.96      1028\n",
      "           8       0.96      0.93      0.94       974\n",
      "           9       0.95      0.95      0.95      1009\n",
      "\n",
      "    accuracy                           0.96     10000\n",
      "   macro avg       0.96      0.96      0.96     10000\n",
      "weighted avg       0.96      0.96      0.96     10000\n",
      "\n"
     ]
    }
   ],
   "source": [
    "predictions = model_2.predict(test_images)\n",
    "predictions = np.argmax(predictions, axis=1)\n",
    "print(classification_report(test_labels, predictions))"
   ]
  },
  {
   "cell_type": "markdown",
   "id": "60858844",
   "metadata": {},
   "source": [
    "#### Функция активации \"sigmoid\""
   ]
  },
  {
   "cell_type": "code",
   "execution_count": 15,
   "id": "b9bd6c23",
   "metadata": {},
   "outputs": [],
   "source": [
    "from tensorflow.nn import sigmoid"
   ]
  },
  {
   "cell_type": "code",
   "execution_count": 16,
   "id": "f3311f13",
   "metadata": {},
   "outputs": [
    {
     "name": "stdout",
     "output_type": "stream",
     "text": [
      "Epoch 1/5\n",
      "1875/1875 [==============================] - 1s 533us/step - loss: 0.5692 - accuracy: 0.8544\n",
      "Epoch 2/5\n",
      "1875/1875 [==============================] - 1s 530us/step - loss: 0.2280 - accuracy: 0.9330\n",
      "Epoch 3/5\n",
      "1875/1875 [==============================] - 1s 527us/step - loss: 0.1680 - accuracy: 0.9504\n",
      "Epoch 4/5\n",
      "1875/1875 [==============================] - 1s 532us/step - loss: 0.1364 - accuracy: 0.9594\n",
      "Epoch 5/5\n",
      "1875/1875 [==============================] - 1s 542us/step - loss: 0.1144 - accuracy: 0.9658\n",
      "Wall time: 5.28 s\n"
     ]
    },
    {
     "data": {
      "text/plain": [
       "<keras.callbacks.History at 0x237a804c250>"
      ]
     },
     "execution_count": 16,
     "metadata": {},
     "output_type": "execute_result"
    }
   ],
   "source": [
    "%%time\n",
    "\n",
    "model_3 = Sequential([\n",
    "  Dense(64, activation=sigmoid, input_shape=(784,)),\n",
    "  Dense(64, activation=sigmoid),\n",
    "  Dense(10, activation='sigmoid'),\n",
    "])\n",
    "\n",
    "model_3.compile(loss='categorical_crossentropy', optimizer='adam', metrics=['accuracy'])\n",
    "\n",
    "model_3.fit(train_images,\n",
    "            to_categorical(train_labels),\n",
    "            epochs=5,\n",
    "            batch_size=32)"
   ]
  },
  {
   "cell_type": "code",
   "execution_count": 17,
   "id": "3e2ee2f3",
   "metadata": {},
   "outputs": [
    {
     "name": "stdout",
     "output_type": "stream",
     "text": [
      "313/313 [==============================] - 0s 475us/step - loss: 0.1202 - accuracy: 0.9629\n"
     ]
    },
    {
     "data": {
      "text/html": [
       "<div>\n",
       "<style scoped>\n",
       "    .dataframe tbody tr th:only-of-type {\n",
       "        vertical-align: middle;\n",
       "    }\n",
       "\n",
       "    .dataframe tbody tr th {\n",
       "        vertical-align: top;\n",
       "    }\n",
       "\n",
       "    .dataframe thead th {\n",
       "        text-align: right;\n",
       "    }\n",
       "</style>\n",
       "<table border=\"1\" class=\"dataframe\">\n",
       "  <thead>\n",
       "    <tr style=\"text-align: right;\">\n",
       "      <th></th>\n",
       "      <th>time</th>\n",
       "      <th>Accuracy</th>\n",
       "    </tr>\n",
       "  </thead>\n",
       "  <tbody>\n",
       "    <tr>\n",
       "      <th>BaseLine</th>\n",
       "      <td>5.27 s</td>\n",
       "      <td>0.9589</td>\n",
       "    </tr>\n",
       "    <tr>\n",
       "      <th>tanh</th>\n",
       "      <td>5.32 s</td>\n",
       "      <td>0.9610</td>\n",
       "    </tr>\n",
       "    <tr>\n",
       "      <th>sigmoid</th>\n",
       "      <td>5.32 s</td>\n",
       "      <td>0.9629</td>\n",
       "    </tr>\n",
       "  </tbody>\n",
       "</table>\n",
       "</div>"
      ],
      "text/plain": [
       "            time  Accuracy\n",
       "BaseLine  5.27 s    0.9589\n",
       "tanh      5.32 s    0.9610\n",
       "sigmoid   5.32 s    0.9629"
      ]
     },
     "execution_count": 17,
     "metadata": {},
     "output_type": "execute_result"
    }
   ],
   "source": [
    "df_metrics.loc['sigmoid', 'time'] = '5.32 s'\n",
    "df_metrics.loc['sigmoid', 'Accuracy'] = model_3.evaluate(\n",
    "  test_images,\n",
    "  to_categorical(test_labels)\n",
    ")[1]\n",
    "\n",
    "df_metrics"
   ]
  },
  {
   "cell_type": "code",
   "execution_count": 18,
   "id": "f0709585",
   "metadata": {},
   "outputs": [
    {
     "name": "stdout",
     "output_type": "stream",
     "text": [
      "              precision    recall  f1-score   support\n",
      "\n",
      "           0       0.96      0.98      0.97       980\n",
      "           1       0.97      0.99      0.98      1135\n",
      "           2       0.98      0.95      0.96      1032\n",
      "           3       0.97      0.96      0.96      1010\n",
      "           4       0.97      0.94      0.96       982\n",
      "           5       0.96      0.96      0.96       892\n",
      "           6       0.96      0.97      0.96       958\n",
      "           7       0.96      0.96      0.96      1028\n",
      "           8       0.95      0.97      0.96       974\n",
      "           9       0.94      0.96      0.95      1009\n",
      "\n",
      "    accuracy                           0.96     10000\n",
      "   macro avg       0.96      0.96      0.96     10000\n",
      "weighted avg       0.96      0.96      0.96     10000\n",
      "\n"
     ]
    }
   ],
   "source": [
    "predictions = model_3.predict(test_images)\n",
    "predictions = np.argmax(predictions, axis=1)\n",
    "print(classification_report(test_labels, predictions))"
   ]
  },
  {
   "cell_type": "markdown",
   "id": "7c8fab58",
   "metadata": {},
   "source": [
    "#### Оптимизатор \"SGD\""
   ]
  },
  {
   "cell_type": "code",
   "execution_count": 19,
   "id": "b9f6c5a7",
   "metadata": {},
   "outputs": [
    {
     "name": "stdout",
     "output_type": "stream",
     "text": [
      "Epoch 1/5\n",
      "1875/1875 [==============================] - 1s 500us/step - loss: 0.6531 - accuracy: 0.8166\n",
      "Epoch 2/5\n",
      "1875/1875 [==============================] - 1s 499us/step - loss: 0.3243 - accuracy: 0.9044\n",
      "Epoch 3/5\n",
      "1875/1875 [==============================] - 1s 494us/step - loss: 0.2791 - accuracy: 0.9167\n",
      "Epoch 4/5\n",
      "1875/1875 [==============================] - 1s 524us/step - loss: 0.2476 - accuracy: 0.9268\n",
      "Epoch 5/5\n",
      "1875/1875 [==============================] - 1s 542us/step - loss: 0.2214 - accuracy: 0.9351\n",
      "Wall time: 5.06 s\n"
     ]
    },
    {
     "data": {
      "text/plain": [
       "<keras.callbacks.History at 0x237a80c6580>"
      ]
     },
     "execution_count": 19,
     "metadata": {},
     "output_type": "execute_result"
    }
   ],
   "source": [
    "%%time\n",
    "\n",
    "model_4 = Sequential([\n",
    "  Dense(64, activation='relu', input_shape=(784,)),\n",
    "  Dense(64, activation='relu'),\n",
    "  Dense(10, activation='sigmoid'),\n",
    "])\n",
    "\n",
    "model_4.compile(loss='categorical_crossentropy', optimizer='SGD', metrics=['accuracy'])\n",
    "\n",
    "model_4.fit(train_images,\n",
    "            to_categorical(train_labels),\n",
    "            epochs=5,\n",
    "            batch_size=32)"
   ]
  },
  {
   "cell_type": "code",
   "execution_count": 20,
   "id": "320bf601",
   "metadata": {
    "scrolled": true
   },
   "outputs": [
    {
     "name": "stdout",
     "output_type": "stream",
     "text": [
      "313/313 [==============================] - 0s 460us/step - loss: 0.2001 - accuracy: 0.9413\n"
     ]
    },
    {
     "data": {
      "text/html": [
       "<div>\n",
       "<style scoped>\n",
       "    .dataframe tbody tr th:only-of-type {\n",
       "        vertical-align: middle;\n",
       "    }\n",
       "\n",
       "    .dataframe tbody tr th {\n",
       "        vertical-align: top;\n",
       "    }\n",
       "\n",
       "    .dataframe thead th {\n",
       "        text-align: right;\n",
       "    }\n",
       "</style>\n",
       "<table border=\"1\" class=\"dataframe\">\n",
       "  <thead>\n",
       "    <tr style=\"text-align: right;\">\n",
       "      <th></th>\n",
       "      <th>time</th>\n",
       "      <th>Accuracy</th>\n",
       "    </tr>\n",
       "  </thead>\n",
       "  <tbody>\n",
       "    <tr>\n",
       "      <th>BaseLine</th>\n",
       "      <td>5.27 s</td>\n",
       "      <td>0.9589</td>\n",
       "    </tr>\n",
       "    <tr>\n",
       "      <th>tanh</th>\n",
       "      <td>5.32 s</td>\n",
       "      <td>0.9610</td>\n",
       "    </tr>\n",
       "    <tr>\n",
       "      <th>sigmoid</th>\n",
       "      <td>5.32 s</td>\n",
       "      <td>0.9629</td>\n",
       "    </tr>\n",
       "    <tr>\n",
       "      <th>SGD</th>\n",
       "      <td>4.97 s</td>\n",
       "      <td>0.9413</td>\n",
       "    </tr>\n",
       "  </tbody>\n",
       "</table>\n",
       "</div>"
      ],
      "text/plain": [
       "            time  Accuracy\n",
       "BaseLine  5.27 s    0.9589\n",
       "tanh      5.32 s    0.9610\n",
       "sigmoid   5.32 s    0.9629\n",
       "SGD       4.97 s    0.9413"
      ]
     },
     "execution_count": 20,
     "metadata": {},
     "output_type": "execute_result"
    }
   ],
   "source": [
    "df_metrics.loc['SGD', 'time'] = '4.97 s'\n",
    "df_metrics.loc['SGD', 'Accuracy'] = model_4.evaluate(\n",
    "  test_images,\n",
    "  to_categorical(test_labels)\n",
    ")[1]\n",
    "\n",
    "df_metrics"
   ]
  },
  {
   "cell_type": "code",
   "execution_count": 21,
   "id": "fb3ea26c",
   "metadata": {},
   "outputs": [
    {
     "name": "stdout",
     "output_type": "stream",
     "text": [
      "              precision    recall  f1-score   support\n",
      "\n",
      "           0       0.96      0.98      0.97       980\n",
      "           1       0.96      0.98      0.97      1135\n",
      "           2       0.94      0.93      0.94      1032\n",
      "           3       0.94      0.93      0.94      1010\n",
      "           4       0.93      0.95      0.94       982\n",
      "           5       0.93      0.92      0.93       892\n",
      "           6       0.93      0.96      0.95       958\n",
      "           7       0.94      0.94      0.94      1028\n",
      "           8       0.93      0.90      0.92       974\n",
      "           9       0.93      0.91      0.92      1009\n",
      "\n",
      "    accuracy                           0.94     10000\n",
      "   macro avg       0.94      0.94      0.94     10000\n",
      "weighted avg       0.94      0.94      0.94     10000\n",
      "\n"
     ]
    }
   ],
   "source": [
    "predictions = model_4.predict(test_images)\n",
    "predictions = np.argmax(predictions, axis=1)\n",
    "print(classification_report(test_labels, predictions))"
   ]
  },
  {
   "cell_type": "markdown",
   "id": "b1a19541",
   "metadata": {},
   "source": [
    "#### Сокращение нейронов и увеличение слоёв"
   ]
  },
  {
   "cell_type": "code",
   "execution_count": 22,
   "id": "7c490804",
   "metadata": {},
   "outputs": [
    {
     "name": "stdout",
     "output_type": "stream",
     "text": [
      "Epoch 1/5\n",
      "1875/1875 [==============================] - 1s 616us/step - loss: 0.9689 - accuracy: 0.6652\n",
      "Epoch 2/5\n",
      "1875/1875 [==============================] - 1s 607us/step - loss: 0.4834 - accuracy: 0.8550\n",
      "Epoch 3/5\n",
      "1875/1875 [==============================] - 1s 613us/step - loss: 0.3816 - accuracy: 0.8866\n",
      "Epoch 4/5\n",
      "1875/1875 [==============================] - 1s 603us/step - loss: 0.3366 - accuracy: 0.9000\n",
      "Epoch 5/5\n",
      "1875/1875 [==============================] - 1s 603us/step - loss: 0.3055 - accuracy: 0.9090\n",
      "Wall time: 6.12 s\n"
     ]
    },
    {
     "data": {
      "text/plain": [
       "<keras.callbacks.History at 0x237a8099040>"
      ]
     },
     "execution_count": 22,
     "metadata": {},
     "output_type": "execute_result"
    }
   ],
   "source": [
    "%%time\n",
    "\n",
    "model_5 = Sequential([\n",
    "  Dense(16, activation='relu', input_shape=(784,)),\n",
    "  Dense(16, activation='relu'),\n",
    "  Dense(16, activation='relu'),\n",
    "  Dense(16, activation='relu'),\n",
    "  Dense(16, activation='relu'),\n",
    "  Dense(16, activation='relu'),\n",
    "  Dense(16, activation='relu'),\n",
    "  Dense(16, activation='relu'),\n",
    "  Dense(10, activation='sigmoid'),\n",
    "])\n",
    "\n",
    "model_5.compile(loss='categorical_crossentropy', optimizer='adam', metrics=['accuracy'])\n",
    "\n",
    "model_5.fit(train_images,\n",
    "            to_categorical(train_labels),\n",
    "            epochs=5,\n",
    "            batch_size=32)"
   ]
  },
  {
   "cell_type": "code",
   "execution_count": 23,
   "id": "7a806fd2",
   "metadata": {},
   "outputs": [
    {
     "name": "stdout",
     "output_type": "stream",
     "text": [
      "313/313 [==============================] - 0s 472us/step - loss: 0.3153 - accuracy: 0.9078\n"
     ]
    },
    {
     "data": {
      "text/html": [
       "<div>\n",
       "<style scoped>\n",
       "    .dataframe tbody tr th:only-of-type {\n",
       "        vertical-align: middle;\n",
       "    }\n",
       "\n",
       "    .dataframe tbody tr th {\n",
       "        vertical-align: top;\n",
       "    }\n",
       "\n",
       "    .dataframe thead th {\n",
       "        text-align: right;\n",
       "    }\n",
       "</style>\n",
       "<table border=\"1\" class=\"dataframe\">\n",
       "  <thead>\n",
       "    <tr style=\"text-align: right;\">\n",
       "      <th></th>\n",
       "      <th>time</th>\n",
       "      <th>Accuracy</th>\n",
       "    </tr>\n",
       "  </thead>\n",
       "  <tbody>\n",
       "    <tr>\n",
       "      <th>BaseLine</th>\n",
       "      <td>5.27 s</td>\n",
       "      <td>0.9589</td>\n",
       "    </tr>\n",
       "    <tr>\n",
       "      <th>tanh</th>\n",
       "      <td>5.32 s</td>\n",
       "      <td>0.9610</td>\n",
       "    </tr>\n",
       "    <tr>\n",
       "      <th>sigmoid</th>\n",
       "      <td>5.32 s</td>\n",
       "      <td>0.9629</td>\n",
       "    </tr>\n",
       "    <tr>\n",
       "      <th>SGD</th>\n",
       "      <td>4.97 s</td>\n",
       "      <td>0.9413</td>\n",
       "    </tr>\n",
       "    <tr>\n",
       "      <th>reshape</th>\n",
       "      <td>6.18 s</td>\n",
       "      <td>0.9078</td>\n",
       "    </tr>\n",
       "  </tbody>\n",
       "</table>\n",
       "</div>"
      ],
      "text/plain": [
       "            time  Accuracy\n",
       "BaseLine  5.27 s    0.9589\n",
       "tanh      5.32 s    0.9610\n",
       "sigmoid   5.32 s    0.9629\n",
       "SGD       4.97 s    0.9413\n",
       "reshape   6.18 s    0.9078"
      ]
     },
     "execution_count": 23,
     "metadata": {},
     "output_type": "execute_result"
    }
   ],
   "source": [
    "df_metrics.loc['reshape', 'time'] = '6.18 s'\n",
    "df_metrics.loc['reshape', 'Accuracy'] = model_5.evaluate(\n",
    "  test_images,\n",
    "  to_categorical(test_labels)\n",
    ")[1]\n",
    "\n",
    "df_metrics"
   ]
  },
  {
   "cell_type": "code",
   "execution_count": 24,
   "id": "7064e61d",
   "metadata": {},
   "outputs": [
    {
     "name": "stdout",
     "output_type": "stream",
     "text": [
      "              precision    recall  f1-score   support\n",
      "\n",
      "           0       0.93      0.97      0.95       980\n",
      "           1       0.90      0.98      0.94      1135\n",
      "           2       0.95      0.88      0.91      1032\n",
      "           3       0.96      0.84      0.90      1010\n",
      "           4       0.92      0.94      0.93       982\n",
      "           5       0.86      0.80      0.83       892\n",
      "           6       0.92      0.96      0.94       958\n",
      "           7       0.90      0.95      0.93      1028\n",
      "           8       0.84      0.84      0.84       974\n",
      "           9       0.90      0.89      0.90      1009\n",
      "\n",
      "    accuracy                           0.91     10000\n",
      "   macro avg       0.91      0.91      0.91     10000\n",
      "weighted avg       0.91      0.91      0.91     10000\n",
      "\n"
     ]
    }
   ],
   "source": [
    "predictions = model_5.predict(test_images)\n",
    "predictions = np.argmax(predictions, axis=1)\n",
    "print(classification_report(test_labels, predictions))"
   ]
  },
  {
   "cell_type": "markdown",
   "id": "180b8957",
   "metadata": {},
   "source": [
    "#### Выводы"
   ]
  },
  {
   "cell_type": "code",
   "execution_count": 25,
   "id": "6e1b7149",
   "metadata": {},
   "outputs": [
    {
     "data": {
      "text/html": [
       "<div>\n",
       "<style scoped>\n",
       "    .dataframe tbody tr th:only-of-type {\n",
       "        vertical-align: middle;\n",
       "    }\n",
       "\n",
       "    .dataframe tbody tr th {\n",
       "        vertical-align: top;\n",
       "    }\n",
       "\n",
       "    .dataframe thead th {\n",
       "        text-align: right;\n",
       "    }\n",
       "</style>\n",
       "<table border=\"1\" class=\"dataframe\">\n",
       "  <thead>\n",
       "    <tr style=\"text-align: right;\">\n",
       "      <th></th>\n",
       "      <th>time</th>\n",
       "      <th>Accuracy</th>\n",
       "    </tr>\n",
       "  </thead>\n",
       "  <tbody>\n",
       "    <tr>\n",
       "      <th>BaseLine</th>\n",
       "      <td>5.27 s</td>\n",
       "      <td>0.9589</td>\n",
       "    </tr>\n",
       "    <tr>\n",
       "      <th>tanh</th>\n",
       "      <td>5.32 s</td>\n",
       "      <td>0.9610</td>\n",
       "    </tr>\n",
       "    <tr>\n",
       "      <th>sigmoid</th>\n",
       "      <td>5.32 s</td>\n",
       "      <td>0.9629</td>\n",
       "    </tr>\n",
       "    <tr>\n",
       "      <th>SGD</th>\n",
       "      <td>4.97 s</td>\n",
       "      <td>0.9413</td>\n",
       "    </tr>\n",
       "    <tr>\n",
       "      <th>reshape</th>\n",
       "      <td>6.18 s</td>\n",
       "      <td>0.9078</td>\n",
       "    </tr>\n",
       "  </tbody>\n",
       "</table>\n",
       "</div>"
      ],
      "text/plain": [
       "            time  Accuracy\n",
       "BaseLine  5.27 s    0.9589\n",
       "tanh      5.32 s    0.9610\n",
       "sigmoid   5.32 s    0.9629\n",
       "SGD       4.97 s    0.9413\n",
       "reshape   6.18 s    0.9078"
      ]
     },
     "execution_count": 25,
     "metadata": {},
     "output_type": "execute_result"
    }
   ],
   "source": [
    "df_metrics"
   ]
  },
  {
   "cell_type": "markdown",
   "id": "3c961624",
   "metadata": {},
   "source": [
    "Как показывают полученные метрики, изменение как функции активации, так и метода оптимизации оказывает влияние на скорость и качество модели. Более простой метод оптимизации <code>SGD</code> работает быстрее, но при этом уступает в качестве более сложным и медленным аналогам.\n",
    "\n",
    "Также важна структура нейронной сети. Расположение одинакового количества нейронов в разных количествах слоёв даёт различные результаты. Два слоя по 64 нейрона справились с задачей лучше, чем восемь слоёв по 16 нейронов при одинаковом суммарном количестве нейронов в обоих случаях."
   ]
  },
  {
   "cell_type": "code",
   "execution_count": null,
   "id": "2fb6fb05",
   "metadata": {},
   "outputs": [],
   "source": []
  }
 ],
 "metadata": {
  "kernelspec": {
   "display_name": "Python 3 (ipykernel)",
   "language": "python",
   "name": "python3"
  },
  "language_info": {
   "codemirror_mode": {
    "name": "ipython",
    "version": 3
   },
   "file_extension": ".py",
   "mimetype": "text/x-python",
   "name": "python",
   "nbconvert_exporter": "python",
   "pygments_lexer": "ipython3",
   "version": "3.9.4"
  }
 },
 "nbformat": 4,
 "nbformat_minor": 5
}
